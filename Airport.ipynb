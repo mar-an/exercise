{
  "nbformat": 4,
  "nbformat_minor": 0,
  "metadata": {
    "colab": {
      "name": "Airport.ipynb",
      "provenance": [],
      "collapsed_sections": [],
      "authorship_tag": "ABX9TyOLw/XSJT98hmmo9rt53toh",
      "include_colab_link": true
    },
    "kernelspec": {
      "display_name": "Python 3",
      "name": "python3"
    }
  },
  "cells": [
    {
      "cell_type": "markdown",
      "metadata": {
        "id": "view-in-github",
        "colab_type": "text"
      },
      "source": [
        "<a href=\"https://colab.research.google.com/github/mar-an/exercise/blob/master/Airport.ipynb\" target=\"_parent\"><img src=\"https://colab.research.google.com/assets/colab-badge.svg\" alt=\"Open In Colab\"/></a>"
      ]
    },
    {
      "cell_type": "code",
      "metadata": {
        "colab": {
          "base_uri": "https://localhost:8080/"
        },
        "id": "duWEewGTIHFy",
        "outputId": "f0e9b093-4717-480e-e057-b011417c1b15"
      },
      "source": [
        "!python --version\n",
        "!java -version"
      ],
      "execution_count": null,
      "outputs": [
        {
          "output_type": "stream",
          "text": [
            "Python 3.7.10\n",
            "openjdk version \"11.0.11\" 2021-04-20\n",
            "OpenJDK Runtime Environment (build 11.0.11+9-Ubuntu-0ubuntu2.18.04)\n",
            "OpenJDK 64-Bit Server VM (build 11.0.11+9-Ubuntu-0ubuntu2.18.04, mixed mode, sharing)\n"
          ],
          "name": "stdout"
        }
      ]
    },
    {
      "cell_type": "code",
      "metadata": {
        "colab": {
          "base_uri": "https://localhost:8080/"
        },
        "id": "Qx8NKe-0IPyx",
        "outputId": "c9477b7b-7fb8-426b-e28d-5e0c9d3e4d41"
      },
      "source": [
        "!cat /etc/issue"
      ],
      "execution_count": null,
      "outputs": [
        {
          "output_type": "stream",
          "text": [
            "Ubuntu 18.04.5 LTS \\n \\l\n",
            "\n"
          ],
          "name": "stdout"
        }
      ]
    },
    {
      "cell_type": "code",
      "metadata": {
        "colab": {
          "base_uri": "https://localhost:8080/"
        },
        "id": "pST9D_m1ITX4",
        "outputId": "45b11d8f-b759-4a4b-8200-86abf8a64a20"
      },
      "source": [
        "ls -all"
      ],
      "execution_count": null,
      "outputs": [
        {
          "output_type": "stream",
          "text": [
            "total 16\n",
            "drwxr-xr-x 1 root root 4096 May  6 13:44 \u001b[0m\u001b[01;34m.\u001b[0m/\n",
            "drwxr-xr-x 1 root root 4096 May 31 06:20 \u001b[01;34m..\u001b[0m/\n",
            "drwxr-xr-x 4 root root 4096 May  6 13:43 \u001b[01;34m.config\u001b[0m/\n",
            "drwxr-xr-x 1 root root 4096 May  6 13:44 \u001b[01;34msample_data\u001b[0m/\n"
          ],
          "name": "stdout"
        }
      ]
    },
    {
      "cell_type": "code",
      "metadata": {
        "colab": {
          "base_uri": "https://localhost:8080/"
        },
        "id": "jL5RzH-MIV7r",
        "outputId": "d7db87bf-45a6-43b1-df21-2c13476bb8be"
      },
      "source": [
        "!whoami"
      ],
      "execution_count": null,
      "outputs": [
        {
          "output_type": "stream",
          "text": [
            "root\n"
          ],
          "name": "stdout"
        }
      ]
    },
    {
      "cell_type": "markdown",
      "metadata": {
        "id": "HA19yCcRoKB2"
      },
      "source": [
        "Instalacja srodowiska"
      ]
    },
    {
      "cell_type": "code",
      "metadata": {
        "id": "YN8SJLFuoN8q"
      },
      "source": [
        "!wget -q https://downloads.apache.org/spark/spark-3.1.1/spark-3.1.1-bin-hadoop2.7.tgz \n",
        "!tar -xvf spark-3.1.1-bin-hadoop2.7.tgz \n",
        "!pip install -q findspark\n",
        "\n",
        "import os\n",
        "#os.environ[\"JAVA_HOME\"] = \"/usr/lib/jvm/default-java\"\n",
        "os.environ[\"SPARK_HOME\"] = \"/content/spark-3.1.1-bin-hadoop2.7\""
      ],
      "execution_count": null,
      "outputs": []
    },
    {
      "cell_type": "code",
      "metadata": {
        "colab": {
          "base_uri": "https://localhost:8080/"
        },
        "id": "HsjbSBm-eqb1",
        "outputId": "9c80e12d-f104-4f22-ca73-512122de723d"
      },
      "source": [
        "!ls -l /content/spark-3.1.1-bin-hadoop2.7/jars/graphframes-0.8.0-spark3.0-s_2.12.jar"
      ],
      "execution_count": 3,
      "outputs": [
        {
          "output_type": "stream",
          "text": [
            "-rw-r--r-- 1 root root 243265 Jun  1 06:35 /content/spark-3.1.1-bin-hadoop2.7/jars/graphframes-0.8.0-spark3.0-s_2.12.jar\n"
          ],
          "name": "stdout"
        }
      ]
    },
    {
      "cell_type": "markdown",
      "metadata": {
        "id": "W2F0i8sgf-0P"
      },
      "source": [
        "Instalacja biblioteki Graphframe dla Pythona"
      ]
    },
    {
      "cell_type": "code",
      "metadata": {
        "colab": {
          "base_uri": "https://localhost:8080/"
        },
        "id": "MAVmAfK3rtLv",
        "outputId": "674bdf93-ecdf-4984-ada0-e622a81b6d2a"
      },
      "source": [
        "!pip install graphframes"
      ],
      "execution_count": 4,
      "outputs": [
        {
          "output_type": "stream",
          "text": [
            "Collecting graphframes\n",
            "  Downloading https://files.pythonhosted.org/packages/0b/27/c7c7e1ced2fe9a905f865dd91faaec2ac8a8e313f511678c8ec92a41a153/graphframes-0.6-py2.py3-none-any.whl\n",
            "Collecting nose\n",
            "\u001b[?25l  Downloading https://files.pythonhosted.org/packages/15/d8/dd071918c040f50fa1cf80da16423af51ff8ce4a0f2399b7bf8de45ac3d9/nose-1.3.7-py3-none-any.whl (154kB)\n",
            "\u001b[K     |████████████████████████████████| 163kB 12.3MB/s \n",
            "\u001b[?25hRequirement already satisfied: numpy in /usr/local/lib/python3.7/dist-packages (from graphframes) (1.19.5)\n",
            "Installing collected packages: nose, graphframes\n",
            "Successfully installed graphframes-0.6 nose-1.3.7\n"
          ],
          "name": "stdout"
        }
      ]
    },
    {
      "cell_type": "markdown",
      "metadata": {
        "id": "67RvxgPs8rpe"
      },
      "source": [
        "Instalacja biblioteki Graphframe dla Sparka"
      ]
    },
    {
      "cell_type": "code",
      "metadata": {
        "id": "nplMVtuy9Nfq"
      },
      "source": [
        "#!/content/spark-3.1.1-bin-hadoop2.7/bin/pyspark --packages graphframes:graphframes:0.8.0-spark3.0-s_2.12 --jars graphframes-0.8.0-spark3.0-s_2.12.jar\n",
        "!$SPARK_HOME/bin/spark-shell --jars graphframes-0.8.0-spark3.0-s_2.12.jar"
      ],
      "execution_count": null,
      "outputs": []
    },
    {
      "cell_type": "markdown",
      "metadata": {
        "id": "UJXDeqdrn-bu"
      },
      "source": [
        "Tworzymy nowy projekt i ustawiamy zmienne środowiska"
      ]
    },
    {
      "cell_type": "code",
      "metadata": {
        "id": "C7k9PJtlnv61"
      },
      "source": [
        "import findspark\n",
        "findspark.init()\n",
        "\n",
        "from pyspark.sql.types import *\n",
        "from pyspark.sql import functions as F\n",
        "\n",
        "import matplotlib\n",
        "import matplotlib.pyplot as plt\n",
        "plt.style.use('fivethirtyeight')\n",
        "\n",
        "from pyspark.sql import SparkSession\n",
        "spark = SparkSession.builder.appName('baza').getOrCreate()"
      ],
      "execution_count": 6,
      "outputs": []
    },
    {
      "cell_type": "markdown",
      "metadata": {
        "id": "AAbU5hNiIugB"
      },
      "source": [
        "Wczytanie danych z plików"
      ]
    },
    {
      "cell_type": "code",
      "metadata": {
        "colab": {
          "base_uri": "https://localhost:8080/"
        },
        "id": "Rz3zVX4odLI-",
        "outputId": "756d64ba-c125-424c-f3ae-b11f465aa1a9"
      },
      "source": [
        "#wczytanie pliku z lotniskami\n",
        "rawDataAirport = spark.read.csv(\"sample_data/airports.dat\");\n",
        "\n",
        "C_rawDataAirport = (rawDataAirport.select(\"_c0\", \"_c1\", \"_c2\", \"_c3\", \"_c4\", \"_c6\", \"_c7\")\n",
        "                 #.filter(\"_c3 = 'United States'\")\n",
        "                 .withColumnRenamed(\"_c4\", \"id\")\n",
        "                 .withColumnRenamed(\"_c3\", \"country\")\n",
        "                 .withColumnRenamed(\"_c6\", \"latitude\")\n",
        "                 .withColumnRenamed(\"_c7\", \"longitude\"))\n",
        "\n",
        "C_rawDataAirport.show(truncate=False);\n",
        "\n",
        "\n",
        "\n",
        "#wczytanie pliku z lotami\n",
        "rawDataRoutes = spark.read.csv(\"sample_data/routes.dat\");\n",
        "C_rawDataRoutes = (rawDataRoutes.select(\"_c0\", \"_c1\", \"_c2\", \"_c3\", \"_c4\", \"_c5\", \"_c6\", \"_c7\", \"_c8\")   \n",
        "                .withColumnRenamed(\"_c0\", \"c0\")\n",
        "                .withColumnRenamed(\"_c1\", \"c1\")\n",
        "                .withColumnRenamed(\"_c2\", \"src\")\n",
        "                .withColumnRenamed(\"_c3\", \"c3\")\n",
        "                .withColumnRenamed(\"_c4\", \"dst\")\n",
        "                .withColumnRenamed(\"_c5\", \"c5\")\n",
        "                .withColumnRenamed(\"_c6\", \"c6\")\n",
        "                .withColumnRenamed(\"_c7\", \"c7\")\n",
        "                .withColumnRenamed(\"_c8\", \"c8\"))\n",
        "C_rawDataRoutes.show(truncate=False);\n",
        "\n",
        "#utworzenie grafa\n",
        "from graphframes import *\n",
        "g = GraphFrame(C_rawDataAirport, C_rawDataRoutes)"
      ],
      "execution_count": 18,
      "outputs": [
        {
          "output_type": "stream",
          "text": [
            "+---+-------------------------------------------+--------------+----------------+---+------------------+-------------------+\n",
            "|_c0|_c1                                        |_c2           |country         |id |latitude          |longitude          |\n",
            "+---+-------------------------------------------+--------------+----------------+---+------------------+-------------------+\n",
            "|1  |Goroka Airport                             |Goroka        |Papua New Guinea|GKA|-6.081689834590001|145.391998291      |\n",
            "|2  |Madang Airport                             |Madang        |Papua New Guinea|MAG|-5.20707988739    |145.789001465      |\n",
            "|3  |Mount Hagen Kagamuga Airport               |Mount Hagen   |Papua New Guinea|HGU|-5.826789855957031|144.29600524902344 |\n",
            "|4  |Nadzab Airport                             |Nadzab        |Papua New Guinea|LAE|-6.569803         |146.725977         |\n",
            "|5  |Port Moresby Jacksons International Airport|Port Moresby  |Papua New Guinea|POM|-9.443380355834961|147.22000122070312 |\n",
            "|6  |Wewak International Airport                |Wewak         |Papua New Guinea|WWK|-3.58383011818    |143.669006348      |\n",
            "|7  |Narsarsuaq Airport                         |Narssarssuaq  |Greenland       |UAK|61.1604995728     |-45.4259986877     |\n",
            "|8  |Godthaab / Nuuk Airport                    |Godthaab      |Greenland       |GOH|64.19090271       |-51.6781005859     |\n",
            "|9  |Kangerlussuaq Airport                      |Sondrestrom   |Greenland       |SFJ|67.0122218992     |-50.7116031647     |\n",
            "|10 |Thule Air Base                             |Thule         |Greenland       |THU|76.5311965942     |-68.7032012939     |\n",
            "|11 |Akureyri Airport                           |Akureyri      |Iceland         |AEY|65.66000366210938 |-18.07270050048828 |\n",
            "|12 |Egilsstaðir Airport                        |Egilsstadir   |Iceland         |EGS|65.2833023071289  |-14.401399612426758|\n",
            "|13 |Hornafjörður Airport                       |Hofn          |Iceland         |HFN|64.295601         |-15.2272           |\n",
            "|14 |Húsavík Airport                            |Husavik       |Iceland         |HZK|65.952301         |-17.426001         |\n",
            "|15 |Ísafjörður Airport                         |Isafjordur    |Iceland         |IFJ|66.05809783935547 |-23.135299682617188|\n",
            "|16 |Keflavik International Airport             |Keflavik      |Iceland         |KEF|63.985000610352   |-22.605600357056   |\n",
            "|17 |Patreksfjörður Airport                     |Patreksfjordur|Iceland         |PFJ|65.555801         |-23.965            |\n",
            "|18 |Reykjavik Airport                          |Reykjavik     |Iceland         |RKV|64.1299972534     |-21.9405994415     |\n",
            "|19 |Siglufjörður Airport                       |Siglufjordur  |Iceland         |SIJ|66.133301         |-18.9167           |\n",
            "|20 |Vestmannaeyjar Airport                     |Vestmannaeyjar|Iceland         |VEY|63.42430114746094 |-20.278900146484375|\n",
            "+---+-------------------------------------------+--------------+----------------+---+------------------+-------------------+\n",
            "only showing top 20 rows\n",
            "\n",
            "+---+---+---+----+---+----+----+---+---+\n",
            "|c0 |c1 |src|c3  |dst|c5  |c6  |c7 |c8 |\n",
            "+---+---+---+----+---+----+----+---+---+\n",
            "|2B |410|AER|2965|KZN|2990|null|0  |CR2|\n",
            "|2B |410|ASF|2966|KZN|2990|null|0  |CR2|\n",
            "|2B |410|ASF|2966|MRV|2962|null|0  |CR2|\n",
            "|2B |410|CEK|2968|KZN|2990|null|0  |CR2|\n",
            "|2B |410|CEK|2968|OVB|4078|null|0  |CR2|\n",
            "|2B |410|DME|4029|KZN|2990|null|0  |CR2|\n",
            "|2B |410|DME|4029|NBC|6969|null|0  |CR2|\n",
            "|2B |410|DME|4029|TGK|\\N  |null|0  |CR2|\n",
            "|2B |410|DME|4029|UUA|6160|null|0  |CR2|\n",
            "|2B |410|EGO|6156|KGD|2952|null|0  |CR2|\n",
            "|2B |410|EGO|6156|KZN|2990|null|0  |CR2|\n",
            "|2B |410|GYD|2922|NBC|6969|null|0  |CR2|\n",
            "|2B |410|KGD|2952|EGO|6156|null|0  |CR2|\n",
            "|2B |410|KZN|2990|AER|2965|null|0  |CR2|\n",
            "|2B |410|KZN|2990|ASF|2966|null|0  |CR2|\n",
            "|2B |410|KZN|2990|CEK|2968|null|0  |CR2|\n",
            "|2B |410|KZN|2990|DME|4029|null|0  |CR2|\n",
            "|2B |410|KZN|2990|EGO|6156|null|0  |CR2|\n",
            "|2B |410|KZN|2990|LED|2948|null|0  |CR2|\n",
            "|2B |410|KZN|2990|SVX|2975|null|0  |CR2|\n",
            "+---+---+---+----+---+----+----+---+---+\n",
            "only showing top 20 rows\n",
            "\n"
          ],
          "name": "stdout"
        }
      ]
    },
    {
      "cell_type": "markdown",
      "metadata": {
        "id": "b8SUOoxkW7k-"
      },
      "source": [
        "Wykaz polskich lotnisk"
      ]
    },
    {
      "cell_type": "code",
      "metadata": {
        "colab": {
          "base_uri": "https://localhost:8080/"
        },
        "id": "3D96nAvT7P6n",
        "outputId": "8dcf633b-1759-4198-f86d-97d7c4162093"
      },
      "source": [
        "g.vertices.filter(\"country = 'Poland'\").show(n=100, truncate=False);\n",
        "#g.vertices.show(n=100, truncate=False);"
      ],
      "execution_count": 8,
      "outputs": [
        {
          "output_type": "stream",
          "text": [
            "+-----+-------------------------------------------+-------------------+-------+---+------------------+------------------+\n",
            "|_c0  |_c1                                        |_c2                |country|id |latitude          |longitude         |\n",
            "+-----+-------------------------------------------+-------------------+-------+---+------------------+------------------+\n",
            "|667  |Babice Airport                             |Warsaw             |Poland |\\N |52.26850128173828 |20.910999298095703|\n",
            "|668  |Gdańsk Lech Wałęsa Airport                 |Gdansk             |Poland |GDN|54.377601623535156|18.46619987487793 |\n",
            "|669  |Kraków John Paul II International Airport  |Krakow             |Poland |KRK|50.077702         |19.7848           |\n",
            "|670  |Muchowiec Airport                          |Katowice           |Poland |\\N |50.23809814453125 |19.03420066833496 |\n",
            "|671  |Katowice International Airport             |Katowice           |Poland |KTW|50.4743           |19.08             |\n",
            "|673  |Mielec Airport                             |Mielec             |Poland |\\N |50.32229995727539 |21.462099075317383|\n",
            "|674  |Poznań-Ławica Airport                      |Poznan             |Poland |POZ|52.421001434299995|16.8262996674     |\n",
            "|675  |Rzeszów-Jasionka Airport                   |Rzeszow            |Poland |RZE|50.1100006104     |22.0189990997     |\n",
            "|676  |\"Szczecin-Goleniów \"\"Solidarność\"\" Airport\"|Szczecin           |Poland |SZZ|53.584701538100006|14.902199745199999|\n",
            "|677  |Redzikowo Air Base                         |Slupsk             |Poland |OSP|54.47890090942383 |17.107500076293945|\n",
            "|678  |Swidwin Military Air Base                  |Shapaja            |Poland |\\N |53.790599823      |15.826299667399999|\n",
            "|679  |Warsaw Chopin Airport                      |Warsaw             |Poland |WAW|52.1656990051     |20.967100143399996|\n",
            "|680  |Copernicus Wrocław Airport                 |Wroclaw            |Poland |WRO|51.1026992798     |16.885799408      |\n",
            "|681  |Zielona Góra-Babimost Airport              |Zielona Gora       |Poland |IEG|52.138500213600004|15.7986001968     |\n",
            "|5591 |Bydgoszcz Ignacy Jan Paderewski Airport    |Bydgoszcz          |Poland |BZG|53.096801757799994|17.9776992798     |\n",
            "|5592 |Łódź Władysław Reymont Airport             |Lodz               |Poland |LCJ|51.721900939899996|19.3980998993     |\n",
            "|6425 |Szczecin-Dąbie Airport                     |Szczecin           |Poland |\\N |53.3921012878418  |14.63379955291748 |\n",
            "|6499 |Bielsko Biala Airport                      |Bielsko-Biala      |Poland |\\N |49.80500030517578 |19.00189971923828 |\n",
            "|7685 |Lotnisko Korne                             |Koszalin           |Poland |\\N |54.129583         |17.844972         |\n",
            "|7812 |Oksywie Military Air Base                  |Gdynia             |Poland |QYD|54.57970047       |18.51720047       |\n",
            "|7813 |Malbork Military Air Base                  |Malbork            |Poland |\\N |54.0269012451     |19.134199142499998|\n",
            "|7814 |Lask Military Air Base                     |Lask               |Poland |\\N |51.551700592      |19.179100036599998|\n",
            "|7815 |Miroslawiec Military Air Base              |Miroslawiec        |Poland |\\N |53.395099639899996|16.0827999115     |\n",
            "|7816 |Krzesiny Military Air Base                 |Poznan             |Poland |\\N |52.3316993713     |16.9664001465     |\n",
            "|8029 |Radom Airport                              |RADOM              |Poland |RDO|51.3891983032     |21.213300705      |\n",
            "|8414 |Modlin Airport                             |Warsaw             |Poland |WMI|52.451099         |20.6518           |\n",
            "|8633 |Inowroclaw Military Air Base               |Inowroclaw         |Poland |\\N |52.8293991089     |18.3306007385     |\n",
            "|8634 |Pruszcz Gdanski Air Base                   |Pruszcz Gdansk     |Poland |\\N |54.248001         |18.6716           |\n",
            "|8751 |Góraszka Airport                           |Goraszka           |Poland |\\N |52.18444061279297 |21.281110763549805|\n",
            "|8832 |Lublin Airport                             |Lublin             |Poland |LUZ|51.240278         |22.713611         |\n",
            "|11103|Olsztyn-Mazury Airport                     |Szczytno-Szymany   |Poland |SZY|53.481899         |20.9377           |\n",
            "|11386|Jelenia Góra Glider Airport                |Jelenia Gora       |Poland |\\N |50.89889907836914 |15.785599708557129|\n",
            "|11790|Biała Podlaska Airfield                    |Biała Podlaska     |Poland |BXP|52.00078          |23.1325278        |\n",
            "|11791|Cewice Air Base                            |Lębork             |Poland |\\N |54.416            |17.7633           |\n",
            "|11792|Deblin Military Air Base                   |Dęblin             |Poland |\\N |51.551399231      |21.8936004639     |\n",
            "|11793|Leczyca Military Air Base                  |Leczyca            |Poland |\\N |52.004699707      |19.1455993652     |\n",
            "|11794|Minsk Mazowiecki Military Air Base         |null               |Poland |\\N |52.1954994202     |21.6558990479     |\n",
            "|11795|Powidz Military Air Base                   |null               |Poland |\\N |52.379398         |17.853901         |\n",
            "|11796|Tomaszow Mazowiecki Military Air Base      |Tomaszów Mazowiecki|Poland |\\N |51.584400177      |20.0977993011     |\n",
            "|13453|Suwałki Airport                            |Suwalki            |Poland |\\N |54.07279968261719 |22.899200439453125|\n",
            "|13621|Jastarnia Airport                          |Jastarnia          |Poland |\\N |54.71028137207031 |18.645280838012695|\n",
            "+-----+-------------------------------------------+-------------------+-------+---+------------------+------------------+\n",
            "\n"
          ],
          "name": "stdout"
        }
      ]
    },
    {
      "cell_type": "markdown",
      "metadata": {
        "id": "6zvFq_tmW0vA"
      },
      "source": [
        "Ilość lotów wychodzących z polskich lotnisk"
      ]
    },
    {
      "cell_type": "code",
      "metadata": {
        "colab": {
          "base_uri": "https://localhost:8080/"
        },
        "id": "ggADE1f4Ep-2",
        "outputId": "27e6f671-cb65-4702-e9a9-c0df02e50ad0"
      },
      "source": [
        "#kody wszystkich lotnisk z ilością lotów pogrupowanych po src (routes.dat)\n",
        "airports = (g.edges\n",
        " .groupBy(\"src\")\n",
        " .agg(F.count(\"src\").alias(\"flights1\"))\n",
        " .sort(\"flights1\", ascending=False))\n",
        "\n",
        "#połączenie obu struktur danych po kolumnie i z ilościa lotów src\n",
        "dest = (g.vertices\n",
        "                      .join(airports, airports.src == g.vertices.id)\n",
        "                      .select(\"_c1\", \"id\", \"flights1\", \"country\")\n",
        "                      .filter(\"country = 'Poland'\")\n",
        "                      .sort(\"flights1\", ascending=False))\n",
        "\n",
        "\n",
        "airports.show(10)\n",
        "dest.show(n=50, truncate=False)"
      ],
      "execution_count": null,
      "outputs": [
        {
          "output_type": "stream",
          "text": [
            "+---+--------+\n",
            "|src|flights1|\n",
            "+---+--------+\n",
            "|ATL|     915|\n",
            "|ORD|     558|\n",
            "|PEK|     535|\n",
            "|LHR|     527|\n",
            "|CDG|     524|\n",
            "|FRA|     497|\n",
            "|LAX|     492|\n",
            "|DFW|     469|\n",
            "|JFK|     456|\n",
            "|AMS|     453|\n",
            "+---+--------+\n",
            "only showing top 10 rows\n",
            "\n",
            "+-------------------------------------------+---+--------+-------+\n",
            "|_c1                                        |id |flights1|country|\n",
            "+-------------------------------------------+---+--------+-------+\n",
            "|Warsaw Chopin Airport                      |WAW|120     |Poland |\n",
            "|Kraków John Paul II International Airport  |KRK|57      |Poland |\n",
            "|Gdańsk Lech Wałęsa Airport                 |GDN|51      |Poland |\n",
            "|Copernicus Wrocław Airport                 |WRO|33      |Poland |\n",
            "|Katowice International Airport             |KTW|28      |Poland |\n",
            "|Modlin Airport                             |WMI|26      |Poland |\n",
            "|Poznań-Ławica Airport                      |POZ|21      |Poland |\n",
            "|Rzeszów-Jasionka Airport                   |RZE|11      |Poland |\n",
            "|\"Szczecin-Goleniów \"\"Solidarność\"\" Airport\"|SZZ|7       |Poland |\n",
            "|Lublin Airport                             |LUZ|6       |Poland |\n",
            "|Bydgoszcz Ignacy Jan Paderewski Airport    |BZG|3       |Poland |\n",
            "+-------------------------------------------+---+--------+-------+\n",
            "\n"
          ],
          "name": "stdout"
        }
      ]
    },
    {
      "cell_type": "markdown",
      "metadata": {
        "id": "etX6LjG-XCZE"
      },
      "source": [
        "Ilość lotów przychodzących z polskich lotnisk"
      ]
    },
    {
      "cell_type": "code",
      "metadata": {
        "colab": {
          "base_uri": "https://localhost:8080/"
        },
        "id": "kqyNTjIZXICG",
        "outputId": "58547101-141c-4222-c2b8-ee80fd3cf411"
      },
      "source": [
        "#to samo dla połaczenia ramek do ilosci lotów dst\n",
        "airports1 = (g.edges\n",
        " .groupBy(\"dst\")\n",
        " .agg(F.count(\"dst\").alias(\"flights2\"))\n",
        " .sort(\"flights2\", ascending=False))\n",
        "\n",
        "arrival = (g.vertices\n",
        "                      .join(airports1, airports1.dst == g.vertices.id)\n",
        "                      .select(\"_c1\", \"id\", \"flights2\", \"country\")\n",
        "                      .filter(\"country = 'Poland'\")\n",
        "                      .sort(\"flights2\", ascending=False))\n",
        "\n",
        "arrival.show(n=100,truncate=False)"
      ],
      "execution_count": null,
      "outputs": [
        {
          "output_type": "stream",
          "text": [
            "+-------------------------------------------+---+--------+-------+\n",
            "|_c1                                        |id |flights2|country|\n",
            "+-------------------------------------------+---+--------+-------+\n",
            "|Warsaw Chopin Airport                      |WAW|120     |Poland |\n",
            "|Kraków John Paul II International Airport  |KRK|57      |Poland |\n",
            "|Gdańsk Lech Wałęsa Airport                 |GDN|50      |Poland |\n",
            "|Copernicus Wrocław Airport                 |WRO|33      |Poland |\n",
            "|Katowice International Airport             |KTW|28      |Poland |\n",
            "|Modlin Airport                             |WMI|26      |Poland |\n",
            "|Poznań-Ławica Airport                      |POZ|21      |Poland |\n",
            "|Rzeszów-Jasionka Airport                   |RZE|11      |Poland |\n",
            "|\"Szczecin-Goleniów \"\"Solidarność\"\" Airport\"|SZZ|7       |Poland |\n",
            "|Lublin Airport                             |LUZ|6       |Poland |\n",
            "|Bydgoszcz Ignacy Jan Paderewski Airport    |BZG|3       |Poland |\n",
            "+-------------------------------------------+---+--------+-------+\n",
            "\n"
          ],
          "name": "stdout"
        }
      ]
    },
    {
      "cell_type": "markdown",
      "metadata": {
        "id": "bjeBsTqOjpJt"
      },
      "source": [
        "Loty międzynarodowe z polskich lotnisk"
      ]
    },
    {
      "cell_type": "markdown",
      "metadata": {
        "id": "vUGRu034ErTJ"
      },
      "source": [
        "Loty międzynarodowe z polskich lotnisk - SQL"
      ]
    },
    {
      "cell_type": "code",
      "metadata": {
        "colab": {
          "base_uri": "https://localhost:8080/"
        },
        "id": "FT4kw3krmhch",
        "outputId": "e0842459-89e7-4cd1-913e-2453d556c09c"
      },
      "source": [
        "polskie_lotniska = g.vertices.filter(\"country = 'Poland'\")\n",
        "polskie_lotniska.createOrReplaceTempView('polskie_lotniska')\n",
        "g.edges.createOrReplaceTempView('edges')\n",
        "\n",
        "### przyloty z zagranicy do polski -z grupowaniem po lotnisku\n",
        "#spark.sql('''\n",
        "#SELECT _c1, count(dst), count(src)\n",
        "#FROM edges\n",
        "#LEFT JOIN polskie_lotniska\n",
        "#ON polskie_lotniska.id = edges.src\n",
        "#WHERE (edges.dst NOT IN (SELECT id FROM polskie_lotniska)) AND (edges.src  IN (SELECT id FROM polskie_lotniska) )\n",
        "#GROUP by _c1\n",
        "#ORDER by count(dst) desc\n",
        "#''').show(n=200, truncate=False)\n",
        "\n",
        "\n",
        "### przyloty z zagranicy do polski - wyniki bez grupowania\n",
        "#spark.sql('''\n",
        "#SELECT _c1, dst, src\n",
        "#FROM edges\n",
        "#LEFT JOIN polskie_lotniska\n",
        "#ON polskie_lotniska.id = edges.src\n",
        "#WHERE (edges.dst NOT IN (SELECT id FROM polskie_lotniska)) AND (edges.src IN (SELECT id FROM polskie_lotniska) )\n",
        "#ORDER by _c1 desc\n",
        "#''').show(n=200, truncate=False)\n",
        "\n",
        "\n",
        "### loty krajowe -z grupowaniem po lotnisku\n",
        "spark.sql('''\n",
        "SELECT _c1, count(dst), count(src)\n",
        "FROM edges\n",
        "LEFT JOIN polskie_lotniska\n",
        "ON polskie_lotniska.id = edges.dst\n",
        "WHERE (edges.dst IN (SELECT id FROM polskie_lotniska)) AND (edges.src IN (SELECT id FROM polskie_lotniska))\n",
        "GROUP by _c1\n",
        "ORDER by count(dst) desc\n",
        "''').show(n=200, truncate=False)\n",
        "\n",
        "\n",
        "### loty krajowe -bez grupowania\n",
        "#spark.sql('''\n",
        "#SELECT _c1, dst, src\n",
        "#FROM edges\n",
        "#LEFT JOIN polskie_lotniska\n",
        "#ON polskie_lotniska.id = edges.dst\n",
        "#WHERE (edges.dst IN (SELECT id FROM polskie_lotniska)) AND (edges.src IN (SELECT id FROM polskie_lotniska))\n",
        "#ORDER by _c1 desc\n",
        "#''').show(n=200, truncate=False)\n"
      ],
      "execution_count": null,
      "outputs": [
        {
          "output_type": "stream",
          "text": [
            "+-------------------------------------------+----------+----------+\n",
            "|_c1                                        |count(dst)|count(src)|\n",
            "+-------------------------------------------+----------+----------+\n",
            "|Warsaw Chopin Airport                      |7         |7         |\n",
            "|Gdańsk Lech Wałęsa Airport                 |5         |5         |\n",
            "|Copernicus Wrocław Airport                 |3         |3         |\n",
            "|Kraków John Paul II International Airport  |2         |2         |\n",
            "|Modlin Airport                             |2         |2         |\n",
            "|Rzeszów-Jasionka Airport                   |1         |1         |\n",
            "|Poznań-Ławica Airport                      |1         |1         |\n",
            "|\"Szczecin-Goleniów \"\"Solidarność\"\" Airport\"|1         |1         |\n",
            "|Katowice International Airport             |1         |1         |\n",
            "|Lublin Airport                             |1         |1         |\n",
            "+-------------------------------------------+----------+----------+\n",
            "\n"
          ],
          "name": "stdout"
        }
      ]
    },
    {
      "cell_type": "code",
      "metadata": {
        "colab": {
          "base_uri": "https://localhost:8080/"
        },
        "id": "CZ9tZ5fJxnyU",
        "outputId": "1c9639f7-5e87-4032-dfdf-59dd95a72b26"
      },
      "source": [
        "#polskie lotniska za pomocą SQL\n",
        "spark.sql('''SELECT *\n",
        "FROM polskie_lotniska\n",
        "sort by _c1''').show(n=100, truncate=False)"
      ],
      "execution_count": null,
      "outputs": [
        {
          "output_type": "stream",
          "text": [
            "+-----+-------------------------------------------+-------------------+-------+---+------------------+------------------+\n",
            "|_c0  |_c1                                        |_c2                |country|id |latitude          |longitude         |\n",
            "+-----+-------------------------------------------+-------------------+-------+---+------------------+------------------+\n",
            "|676  |\"Szczecin-Goleniów \"\"Solidarność\"\" Airport\"|Szczecin           |Poland |SZZ|53.584701538100006|14.902199745199999|\n",
            "|667  |Babice Airport                             |Warsaw             |Poland |\\N |52.26850128173828 |20.910999298095703|\n",
            "|11790|Biała Podlaska Airfield                    |Biała Podlaska     |Poland |BXP|52.00078          |23.1325278        |\n",
            "|6499 |Bielsko Biala Airport                      |Bielsko-Biala      |Poland |\\N |49.80500030517578 |19.00189971923828 |\n",
            "|5591 |Bydgoszcz Ignacy Jan Paderewski Airport    |Bydgoszcz          |Poland |BZG|53.096801757799994|17.9776992798     |\n",
            "|11791|Cewice Air Base                            |Lębork             |Poland |\\N |54.416            |17.7633           |\n",
            "|680  |Copernicus Wrocław Airport                 |Wroclaw            |Poland |WRO|51.1026992798     |16.885799408      |\n",
            "|11792|Deblin Military Air Base                   |Dęblin             |Poland |\\N |51.551399231      |21.8936004639     |\n",
            "|668  |Gdańsk Lech Wałęsa Airport                 |Gdansk             |Poland |GDN|54.377601623535156|18.46619987487793 |\n",
            "|8751 |Góraszka Airport                           |Goraszka           |Poland |\\N |52.18444061279297 |21.281110763549805|\n",
            "|8633 |Inowroclaw Military Air Base               |Inowroclaw         |Poland |\\N |52.8293991089     |18.3306007385     |\n",
            "|13621|Jastarnia Airport                          |Jastarnia          |Poland |\\N |54.71028137207031 |18.645280838012695|\n",
            "|11386|Jelenia Góra Glider Airport                |Jelenia Gora       |Poland |\\N |50.89889907836914 |15.785599708557129|\n",
            "|671  |Katowice International Airport             |Katowice           |Poland |KTW|50.4743           |19.08             |\n",
            "|669  |Kraków John Paul II International Airport  |Krakow             |Poland |KRK|50.077702         |19.7848           |\n",
            "|7816 |Krzesiny Military Air Base                 |Poznan             |Poland |\\N |52.3316993713     |16.9664001465     |\n",
            "|7814 |Lask Military Air Base                     |Lask               |Poland |\\N |51.551700592      |19.179100036599998|\n",
            "|11793|Leczyca Military Air Base                  |Leczyca            |Poland |\\N |52.004699707      |19.1455993652     |\n",
            "|7685 |Lotnisko Korne                             |Koszalin           |Poland |\\N |54.129583         |17.844972         |\n",
            "|8832 |Lublin Airport                             |Lublin             |Poland |LUZ|51.240278         |22.713611         |\n",
            "|7813 |Malbork Military Air Base                  |Malbork            |Poland |\\N |54.0269012451     |19.134199142499998|\n",
            "|673  |Mielec Airport                             |Mielec             |Poland |\\N |50.32229995727539 |21.462099075317383|\n",
            "|11794|Minsk Mazowiecki Military Air Base         |null               |Poland |\\N |52.1954994202     |21.6558990479     |\n",
            "|7815 |Miroslawiec Military Air Base              |Miroslawiec        |Poland |\\N |53.395099639899996|16.0827999115     |\n",
            "|8414 |Modlin Airport                             |Warsaw             |Poland |WMI|52.451099         |20.6518           |\n",
            "|670  |Muchowiec Airport                          |Katowice           |Poland |\\N |50.23809814453125 |19.03420066833496 |\n",
            "|7812 |Oksywie Military Air Base                  |Gdynia             |Poland |QYD|54.57970047       |18.51720047       |\n",
            "|11103|Olsztyn-Mazury Airport                     |Szczytno-Szymany   |Poland |SZY|53.481899         |20.9377           |\n",
            "|11795|Powidz Military Air Base                   |null               |Poland |\\N |52.379398         |17.853901         |\n",
            "|674  |Poznań-Ławica Airport                      |Poznan             |Poland |POZ|52.421001434299995|16.8262996674     |\n",
            "|8634 |Pruszcz Gdanski Air Base                   |Pruszcz Gdansk     |Poland |\\N |54.248001         |18.6716           |\n",
            "|8029 |Radom Airport                              |RADOM              |Poland |RDO|51.3891983032     |21.213300705      |\n",
            "|677  |Redzikowo Air Base                         |Slupsk             |Poland |OSP|54.47890090942383 |17.107500076293945|\n",
            "|675  |Rzeszów-Jasionka Airport                   |Rzeszow            |Poland |RZE|50.1100006104     |22.0189990997     |\n",
            "|13453|Suwałki Airport                            |Suwalki            |Poland |\\N |54.07279968261719 |22.899200439453125|\n",
            "|678  |Swidwin Military Air Base                  |Shapaja            |Poland |\\N |53.790599823      |15.826299667399999|\n",
            "|6425 |Szczecin-Dąbie Airport                     |Szczecin           |Poland |\\N |53.3921012878418  |14.63379955291748 |\n",
            "|11796|Tomaszow Mazowiecki Military Air Base      |Tomaszów Mazowiecki|Poland |\\N |51.584400177      |20.0977993011     |\n",
            "|679  |Warsaw Chopin Airport                      |Warsaw             |Poland |WAW|52.1656990051     |20.967100143399996|\n",
            "|681  |Zielona Góra-Babimost Airport              |Zielona Gora       |Poland |IEG|52.138500213600004|15.7986001968     |\n",
            "|5592 |Łódź Władysław Reymont Airport             |Lodz               |Poland |LCJ|51.721900939899996|19.3980998993     |\n",
            "+-----+-------------------------------------------+-------------------+-------+---+------------------+------------------+\n",
            "\n"
          ],
          "name": "stdout"
        }
      ]
    },
    {
      "cell_type": "markdown",
      "metadata": {
        "id": "YhX6DE7Ys1St"
      },
      "source": [
        "Przeszukiwanie grafu\n",
        "\n",
        "algorytm BFS - wyznaczenie najkrótszej scieżki"
      ]
    },
    {
      "cell_type": "code",
      "metadata": {
        "colab": {
          "base_uri": "https://localhost:8080/"
        },
        "id": "7Uxd9lIZnQvX",
        "outputId": "f978939b-d879-480e-e7ef-debb73446423"
      },
      "source": [
        "from_expr = 'id = \"KTW\"'\n",
        "to_expr = 'id = \"KZN\"'\n",
        "ord_to_ckb = g.bfs(from_expr, to_expr, maxPathLength=3)\n",
        "print(ord_to_ckb.columns)\n",
        "\n",
        "columns = [column for column in ord_to_ckb.columns if not column.startswith(\"v\")]  #tylko węzły, pomijamy krawędzie\n",
        "ord_to_ckb.select(columns).count()\n",
        "ord_to_ckb.select(columns).show(n=50,truncate=False)"
      ],
      "execution_count": 10,
      "outputs": [
        {
          "output_type": "stream",
          "text": [
            "['from', 'e0', 'v1', 'e1', 'v2', 'e2', 'to']\n",
            "+----------------------------------------------------------------------------+-------------------------------------------------+----------------------------------------------------------------------+--------------------------------------------------+-----------------------------------------------------------------------------------------+\n",
            "|from                                                                        |e0                                               |e1                                                                    |e2                                                |to                                                                                       |\n",
            "+----------------------------------------------------------------------------+-------------------------------------------------+----------------------------------------------------------------------+--------------------------------------------------+-----------------------------------------------------------------------------------------+\n",
            "|{671, Katowice International Airport, Katowice, Poland, KTW, 50.4743, 19.08}|{LH, 3320, KTW, 671, FRA, 340, Y, 0, 735 CR7 733}|{LH, 3320, FRA, 340, IST, 1701, null, 0, 321}                         |{TK, 4951, IST, 1701, KZN, 2990, null, 0, 738 319}|{2990, Kazan International Airport, Kazan, Russia, KZN, 55.606201171875, 49.278701782227}|\n",
            "|{671, Katowice International Airport, Katowice, Poland, KTW, 50.4743, 19.08}|{LH, 3320, KTW, 671, FRA, 340, Y, 0, 735 CR7 733}|{TK, 4951, FRA, 340, IST, 1701, null, 0, 320 330 321 343 332}         |{TK, 4951, IST, 1701, KZN, 2990, null, 0, 738 319}|{2990, Kazan International Airport, Kazan, Russia, KZN, 55.606201171875, 49.278701782227}|\n",
            "|{671, Katowice International Airport, Katowice, Poland, KTW, 50.4743, 19.08}|{LH, 3320, KTW, 671, FRA, 340, Y, 0, 735 CR7 733}|{US, 5265, FRA, 340, IST, 1701, Y, 0, 320 330 321 343 332}            |{TK, 4951, IST, 1701, KZN, 2990, null, 0, 738 319}|{2990, Kazan International Airport, Kazan, Russia, KZN, 55.606201171875, 49.278701782227}|\n",
            "|{671, Katowice International Airport, Katowice, Poland, KTW, 50.4743, 19.08}|{LO, 3210, KTW, 671, FRA, 340, Y, 0, 735 CR7 733}|{LH, 3320, FRA, 340, IST, 1701, null, 0, 321}                         |{TK, 4951, IST, 1701, KZN, 2990, null, 0, 738 319}|{2990, Kazan International Airport, Kazan, Russia, KZN, 55.606201171875, 49.278701782227}|\n",
            "|{671, Katowice International Airport, Katowice, Poland, KTW, 50.4743, 19.08}|{LO, 3210, KTW, 671, FRA, 340, Y, 0, 735 CR7 733}|{TK, 4951, FRA, 340, IST, 1701, null, 0, 320 330 321 343 332}         |{TK, 4951, IST, 1701, KZN, 2990, null, 0, 738 319}|{2990, Kazan International Airport, Kazan, Russia, KZN, 55.606201171875, 49.278701782227}|\n",
            "|{671, Katowice International Airport, Katowice, Poland, KTW, 50.4743, 19.08}|{LO, 3210, KTW, 671, FRA, 340, Y, 0, 735 CR7 733}|{US, 5265, FRA, 340, IST, 1701, Y, 0, 320 330 321 343 332}            |{TK, 4951, IST, 1701, KZN, 2990, null, 0, 738 319}|{2990, Kazan International Airport, Kazan, Russia, KZN, 55.606201171875, 49.278701782227}|\n",
            "|{671, Katowice International Airport, Katowice, Poland, KTW, 50.4743, 19.08}|{FR, 4296, KTW, 671, BHX, 469, null, 0, 738}     |{TK, 4951, BHX, 469, IST, 1701, null, 0, 739 738}                     |{TK, 4951, IST, 1701, KZN, 2990, null, 0, 738 319}|{2990, Kazan International Airport, Kazan, Russia, KZN, 55.606201171875, 49.278701782227}|\n",
            "|{671, Katowice International Airport, Katowice, Poland, KTW, 50.4743, 19.08}|{W6, 5461, KTW, 671, LTN, 492, null, 0, 320}     |{KK, 995, LTN, 492, IST, 1701, null, 0, 320}                          |{TK, 4951, IST, 1701, KZN, 2990, null, 0, 738 319}|{2990, Kazan International Airport, Kazan, Russia, KZN, 55.606201171875, 49.278701782227}|\n",
            "|{671, Katowice International Airport, Katowice, Poland, KTW, 50.4743, 19.08}|{W6, 5461, KTW, 671, NAP, 1561, null, 0, 320}    |{TK, 4951, NAP, 1561, IST, 1701, null, 0, 738}                        |{TK, 4951, IST, 1701, KZN, 2990, null, 0, 738 319}|{2990, Kazan International Airport, Kazan, Russia, KZN, 55.606201171875, 49.278701782227}|\n",
            "|{671, Katowice International Airport, Katowice, Poland, KTW, 50.4743, 19.08}|{W6, 5461, KTW, 671, BCN, 1218, null, 0, 320}    |{TK, 4951, BCN, 1218, IST, 1701, null, 0, 320 332 321 738 330}        |{TK, 4951, IST, 1701, KZN, 2990, null, 0, 738 319}|{2990, Kazan International Airport, Kazan, Russia, KZN, 55.606201171875, 49.278701782227}|\n",
            "|{671, Katowice International Airport, Katowice, Poland, KTW, 50.4743, 19.08}|{4U, 2548, KTW, 671, DUS, 345, null, 0, CRJ}     |{TK, 4951, DUS, 345, IST, 1701, null, 0, 738 330 321 332 343}         |{TK, 4951, IST, 1701, KZN, 2990, null, 0, 738 319}|{2990, Kazan International Airport, Kazan, Russia, KZN, 55.606201171875, 49.278701782227}|\n",
            "|{671, Katowice International Airport, Katowice, Poland, KTW, 50.4743, 19.08}|{LO, 3210, KTW, 671, WAW, 679, null, 0, E70 DH4} |{LO, 3210, WAW, 679, IST, 1701, null, 0, 734 E95}                     |{TK, 4951, IST, 1701, KZN, 2990, null, 0, 738 319}|{2990, Kazan International Airport, Kazan, Russia, KZN, 55.606201171875, 49.278701782227}|\n",
            "|{671, Katowice International Airport, Katowice, Poland, KTW, 50.4743, 19.08}|{LO, 3210, KTW, 671, WAW, 679, null, 0, E70 DH4} |{TK, 4951, WAW, 679, IST, 1701, null, 0, 321}                         |{TK, 4951, IST, 1701, KZN, 2990, null, 0, 738 319}|{2990, Kazan International Airport, Kazan, Russia, KZN, 55.606201171875, 49.278701782227}|\n",
            "|{671, Katowice International Airport, Katowice, Poland, KTW, 50.4743, 19.08}|{W6, 5461, KTW, 671, TLV, 1590, null, 0, 320}    |{TK, 4951, TLV, 1590, IST, 1701, null, 0, 738 321 320 330 332 739 319}|{TK, 4951, IST, 1701, KZN, 2990, null, 0, 738 319}|{2990, Kazan International Airport, Kazan, Russia, KZN, 55.606201171875, 49.278701782227}|\n",
            "|{671, Katowice International Airport, Katowice, Poland, KTW, 50.4743, 19.08}|{FR, 4296, KTW, 671, DUB, 599, null, 0, 738}     |{TK, 4951, DUB, 599, IST, 1701, null, 0, 738}                         |{TK, 4951, IST, 1701, KZN, 2990, null, 0, 738 319}|{2990, Kazan International Airport, Kazan, Russia, KZN, 55.606201171875, 49.278701782227}|\n",
            "|{671, Katowice International Airport, Katowice, Poland, KTW, 50.4743, 19.08}|{W6, 5461, KTW, 671, CGN, 344, null, 0, 320}     |{TK, 4951, CGN, 344, IST, 1701, null, 0, 320 321}                     |{TK, 4951, IST, 1701, KZN, 2990, null, 0, 738 319}|{2990, Kazan International Airport, Kazan, Russia, KZN, 55.606201171875, 49.278701782227}|\n",
            "|{671, Katowice International Airport, Katowice, Poland, KTW, 50.4743, 19.08}|{LH, 3320, KTW, 671, FRA, 340, Y, 0, 735 CR7 733}|{LH, 3320, FRA, 340, LED, 2948, null, 0, 32A 321 320}                 |{2B, 410, LED, 2948, KZN, 2990, null, 0, CR2}     |{2990, Kazan International Airport, Kazan, Russia, KZN, 55.606201171875, 49.278701782227}|\n",
            "|{671, Katowice International Airport, Katowice, Poland, KTW, 50.4743, 19.08}|{LH, 3320, KTW, 671, FRA, 340, Y, 0, 735 CR7 733}|{LH, 3320, FRA, 340, LED, 2948, null, 0, 32A 321 320}                 |{FV, 641, LED, 2948, KZN, 2990, null, 0, A81}     |{2990, Kazan International Airport, Kazan, Russia, KZN, 55.606201171875, 49.278701782227}|\n",
            "|{671, Katowice International Airport, Katowice, Poland, KTW, 50.4743, 19.08}|{LH, 3320, KTW, 671, FRA, 340, Y, 0, 735 CR7 733}|{LH, 3320, FRA, 340, LED, 2948, null, 0, 32A 321 320}                 |{SU, 130, LED, 2948, KZN, 2990, null, 0, A81}     |{2990, Kazan International Airport, Kazan, Russia, KZN, 55.606201171875, 49.278701782227}|\n",
            "|{671, Katowice International Airport, Katowice, Poland, KTW, 50.4743, 19.08}|{LH, 3320, KTW, 671, FRA, 340, Y, 0, 735 CR7 733}|{SU, 130, FRA, 340, LED, 2948, null, 0, 319}                          |{2B, 410, LED, 2948, KZN, 2990, null, 0, CR2}     |{2990, Kazan International Airport, Kazan, Russia, KZN, 55.606201171875, 49.278701782227}|\n",
            "|{671, Katowice International Airport, Katowice, Poland, KTW, 50.4743, 19.08}|{LH, 3320, KTW, 671, FRA, 340, Y, 0, 735 CR7 733}|{SU, 130, FRA, 340, LED, 2948, null, 0, 319}                          |{FV, 641, LED, 2948, KZN, 2990, null, 0, A81}     |{2990, Kazan International Airport, Kazan, Russia, KZN, 55.606201171875, 49.278701782227}|\n",
            "|{671, Katowice International Airport, Katowice, Poland, KTW, 50.4743, 19.08}|{LH, 3320, KTW, 671, FRA, 340, Y, 0, 735 CR7 733}|{SU, 130, FRA, 340, LED, 2948, null, 0, 319}                          |{SU, 130, LED, 2948, KZN, 2990, null, 0, A81}     |{2990, Kazan International Airport, Kazan, Russia, KZN, 55.606201171875, 49.278701782227}|\n",
            "|{671, Katowice International Airport, Katowice, Poland, KTW, 50.4743, 19.08}|{LO, 3210, KTW, 671, FRA, 340, Y, 0, 735 CR7 733}|{LH, 3320, FRA, 340, LED, 2948, null, 0, 32A 321 320}                 |{2B, 410, LED, 2948, KZN, 2990, null, 0, CR2}     |{2990, Kazan International Airport, Kazan, Russia, KZN, 55.606201171875, 49.278701782227}|\n",
            "|{671, Katowice International Airport, Katowice, Poland, KTW, 50.4743, 19.08}|{LO, 3210, KTW, 671, FRA, 340, Y, 0, 735 CR7 733}|{LH, 3320, FRA, 340, LED, 2948, null, 0, 32A 321 320}                 |{FV, 641, LED, 2948, KZN, 2990, null, 0, A81}     |{2990, Kazan International Airport, Kazan, Russia, KZN, 55.606201171875, 49.278701782227}|\n",
            "|{671, Katowice International Airport, Katowice, Poland, KTW, 50.4743, 19.08}|{LO, 3210, KTW, 671, FRA, 340, Y, 0, 735 CR7 733}|{LH, 3320, FRA, 340, LED, 2948, null, 0, 32A 321 320}                 |{SU, 130, LED, 2948, KZN, 2990, null, 0, A81}     |{2990, Kazan International Airport, Kazan, Russia, KZN, 55.606201171875, 49.278701782227}|\n",
            "|{671, Katowice International Airport, Katowice, Poland, KTW, 50.4743, 19.08}|{LO, 3210, KTW, 671, FRA, 340, Y, 0, 735 CR7 733}|{SU, 130, FRA, 340, LED, 2948, null, 0, 319}                          |{2B, 410, LED, 2948, KZN, 2990, null, 0, CR2}     |{2990, Kazan International Airport, Kazan, Russia, KZN, 55.606201171875, 49.278701782227}|\n",
            "|{671, Katowice International Airport, Katowice, Poland, KTW, 50.4743, 19.08}|{LO, 3210, KTW, 671, FRA, 340, Y, 0, 735 CR7 733}|{SU, 130, FRA, 340, LED, 2948, null, 0, 319}                          |{FV, 641, LED, 2948, KZN, 2990, null, 0, A81}     |{2990, Kazan International Airport, Kazan, Russia, KZN, 55.606201171875, 49.278701782227}|\n",
            "|{671, Katowice International Airport, Katowice, Poland, KTW, 50.4743, 19.08}|{LO, 3210, KTW, 671, FRA, 340, Y, 0, 735 CR7 733}|{SU, 130, FRA, 340, LED, 2948, null, 0, 319}                          |{SU, 130, LED, 2948, KZN, 2990, null, 0, A81}     |{2990, Kazan International Airport, Kazan, Russia, KZN, 55.606201171875, 49.278701782227}|\n",
            "|{671, Katowice International Airport, Katowice, Poland, KTW, 50.4743, 19.08}|{W6, 5461, KTW, 671, BCN, 1218, null, 0, 320}    |{IB, 2822, BCN, 1218, LED, 2948, Y, 0, 320}                           |{2B, 410, LED, 2948, KZN, 2990, null, 0, CR2}     |{2990, Kazan International Airport, Kazan, Russia, KZN, 55.606201171875, 49.278701782227}|\n",
            "|{671, Katowice International Airport, Katowice, Poland, KTW, 50.4743, 19.08}|{W6, 5461, KTW, 671, BCN, 1218, null, 0, 320}    |{IB, 2822, BCN, 1218, LED, 2948, Y, 0, 320}                           |{FV, 641, LED, 2948, KZN, 2990, null, 0, A81}     |{2990, Kazan International Airport, Kazan, Russia, KZN, 55.606201171875, 49.278701782227}|\n",
            "|{671, Katowice International Airport, Katowice, Poland, KTW, 50.4743, 19.08}|{W6, 5461, KTW, 671, BCN, 1218, null, 0, 320}    |{IB, 2822, BCN, 1218, LED, 2948, Y, 0, 320}                           |{SU, 130, LED, 2948, KZN, 2990, null, 0, A81}     |{2990, Kazan International Airport, Kazan, Russia, KZN, 55.606201171875, 49.278701782227}|\n",
            "|{671, Katowice International Airport, Katowice, Poland, KTW, 50.4743, 19.08}|{W6, 5461, KTW, 671, BCN, 1218, null, 0, 320}    |{SU, 130, BCN, 1218, LED, 2948, null, 0, 763 320}                     |{2B, 410, LED, 2948, KZN, 2990, null, 0, CR2}     |{2990, Kazan International Airport, Kazan, Russia, KZN, 55.606201171875, 49.278701782227}|\n",
            "|{671, Katowice International Airport, Katowice, Poland, KTW, 50.4743, 19.08}|{W6, 5461, KTW, 671, BCN, 1218, null, 0, 320}    |{SU, 130, BCN, 1218, LED, 2948, null, 0, 763 320}                     |{FV, 641, LED, 2948, KZN, 2990, null, 0, A81}     |{2990, Kazan International Airport, Kazan, Russia, KZN, 55.606201171875, 49.278701782227}|\n",
            "|{671, Katowice International Airport, Katowice, Poland, KTW, 50.4743, 19.08}|{W6, 5461, KTW, 671, BCN, 1218, null, 0, 320}    |{SU, 130, BCN, 1218, LED, 2948, null, 0, 763 320}                     |{SU, 130, LED, 2948, KZN, 2990, null, 0, A81}     |{2990, Kazan International Airport, Kazan, Russia, KZN, 55.606201171875, 49.278701782227}|\n",
            "|{671, Katowice International Airport, Katowice, Poland, KTW, 50.4743, 19.08}|{W6, 5461, KTW, 671, BCN, 1218, null, 0, 320}    |{VY, 2439, BCN, 1218, LED, 2948, null, 0, 320}                        |{2B, 410, LED, 2948, KZN, 2990, null, 0, CR2}     |{2990, Kazan International Airport, Kazan, Russia, KZN, 55.606201171875, 49.278701782227}|\n",
            "|{671, Katowice International Airport, Katowice, Poland, KTW, 50.4743, 19.08}|{W6, 5461, KTW, 671, BCN, 1218, null, 0, 320}    |{VY, 2439, BCN, 1218, LED, 2948, null, 0, 320}                        |{FV, 641, LED, 2948, KZN, 2990, null, 0, A81}     |{2990, Kazan International Airport, Kazan, Russia, KZN, 55.606201171875, 49.278701782227}|\n",
            "|{671, Katowice International Airport, Katowice, Poland, KTW, 50.4743, 19.08}|{W6, 5461, KTW, 671, BCN, 1218, null, 0, 320}    |{VY, 2439, BCN, 1218, LED, 2948, null, 0, 320}                        |{SU, 130, LED, 2948, KZN, 2990, null, 0, A81}     |{2990, Kazan International Airport, Kazan, Russia, KZN, 55.606201171875, 49.278701782227}|\n",
            "|{671, Katowice International Airport, Katowice, Poland, KTW, 50.4743, 19.08}|{4U, 2548, KTW, 671, DUS, 345, null, 0, CRJ}     |{FV, 641, DUS, 345, LED, 2948, null, 0, 319}                          |{2B, 410, LED, 2948, KZN, 2990, null, 0, CR2}     |{2990, Kazan International Airport, Kazan, Russia, KZN, 55.606201171875, 49.278701782227}|\n",
            "|{671, Katowice International Airport, Katowice, Poland, KTW, 50.4743, 19.08}|{4U, 2548, KTW, 671, DUS, 345, null, 0, CRJ}     |{FV, 641, DUS, 345, LED, 2948, null, 0, 319}                          |{FV, 641, LED, 2948, KZN, 2990, null, 0, A81}     |{2990, Kazan International Airport, Kazan, Russia, KZN, 55.606201171875, 49.278701782227}|\n",
            "|{671, Katowice International Airport, Katowice, Poland, KTW, 50.4743, 19.08}|{4U, 2548, KTW, 671, DUS, 345, null, 0, CRJ}     |{FV, 641, DUS, 345, LED, 2948, null, 0, 319}                          |{SU, 130, LED, 2948, KZN, 2990, null, 0, A81}     |{2990, Kazan International Airport, Kazan, Russia, KZN, 55.606201171875, 49.278701782227}|\n",
            "|{671, Katowice International Airport, Katowice, Poland, KTW, 50.4743, 19.08}|{4U, 2548, KTW, 671, DUS, 345, null, 0, CRJ}     |{LH, 3320, DUS, 345, LED, 2948, null, 0, 319 320}                     |{2B, 410, LED, 2948, KZN, 2990, null, 0, CR2}     |{2990, Kazan International Airport, Kazan, Russia, KZN, 55.606201171875, 49.278701782227}|\n",
            "|{671, Katowice International Airport, Katowice, Poland, KTW, 50.4743, 19.08}|{4U, 2548, KTW, 671, DUS, 345, null, 0, CRJ}     |{LH, 3320, DUS, 345, LED, 2948, null, 0, 319 320}                     |{FV, 641, LED, 2948, KZN, 2990, null, 0, A81}     |{2990, Kazan International Airport, Kazan, Russia, KZN, 55.606201171875, 49.278701782227}|\n",
            "|{671, Katowice International Airport, Katowice, Poland, KTW, 50.4743, 19.08}|{4U, 2548, KTW, 671, DUS, 345, null, 0, CRJ}     |{LH, 3320, DUS, 345, LED, 2948, null, 0, 319 320}                     |{SU, 130, LED, 2948, KZN, 2990, null, 0, A81}     |{2990, Kazan International Airport, Kazan, Russia, KZN, 55.606201171875, 49.278701782227}|\n",
            "|{671, Katowice International Airport, Katowice, Poland, KTW, 50.4743, 19.08}|{4U, 2548, KTW, 671, DUS, 345, null, 0, CRJ}     |{SU, 130, DUS, 345, LED, 2948, null, 0, 319}                          |{2B, 410, LED, 2948, KZN, 2990, null, 0, CR2}     |{2990, Kazan International Airport, Kazan, Russia, KZN, 55.606201171875, 49.278701782227}|\n",
            "|{671, Katowice International Airport, Katowice, Poland, KTW, 50.4743, 19.08}|{4U, 2548, KTW, 671, DUS, 345, null, 0, CRJ}     |{SU, 130, DUS, 345, LED, 2948, null, 0, 319}                          |{FV, 641, LED, 2948, KZN, 2990, null, 0, A81}     |{2990, Kazan International Airport, Kazan, Russia, KZN, 55.606201171875, 49.278701782227}|\n",
            "|{671, Katowice International Airport, Katowice, Poland, KTW, 50.4743, 19.08}|{4U, 2548, KTW, 671, DUS, 345, null, 0, CRJ}     |{SU, 130, DUS, 345, LED, 2948, null, 0, 319}                          |{SU, 130, LED, 2948, KZN, 2990, null, 0, A81}     |{2990, Kazan International Airport, Kazan, Russia, KZN, 55.606201171875, 49.278701782227}|\n",
            "|{671, Katowice International Airport, Katowice, Poland, KTW, 50.4743, 19.08}|{LO, 3210, KTW, 671, WAW, 679, null, 0, E70 DH4} |{LO, 3210, WAW, 679, LED, 2948, null, 0, E75}                         |{2B, 410, LED, 2948, KZN, 2990, null, 0, CR2}     |{2990, Kazan International Airport, Kazan, Russia, KZN, 55.606201171875, 49.278701782227}|\n",
            "|{671, Katowice International Airport, Katowice, Poland, KTW, 50.4743, 19.08}|{LO, 3210, KTW, 671, WAW, 679, null, 0, E70 DH4} |{LO, 3210, WAW, 679, LED, 2948, null, 0, E75}                         |{FV, 641, LED, 2948, KZN, 2990, null, 0, A81}     |{2990, Kazan International Airport, Kazan, Russia, KZN, 55.606201171875, 49.278701782227}|\n",
            "|{671, Katowice International Airport, Katowice, Poland, KTW, 50.4743, 19.08}|{LO, 3210, KTW, 671, WAW, 679, null, 0, E70 DH4} |{LO, 3210, WAW, 679, LED, 2948, null, 0, E75}                         |{SU, 130, LED, 2948, KZN, 2990, null, 0, A81}     |{2990, Kazan International Airport, Kazan, Russia, KZN, 55.606201171875, 49.278701782227}|\n",
            "|{671, Katowice International Airport, Katowice, Poland, KTW, 50.4743, 19.08}|{W6, 5461, KTW, 671, TLV, 1590, null, 0, 320}    |{LY, 2150, TLV, 1590, LED, 2948, null, 0, 739 738}                    |{2B, 410, LED, 2948, KZN, 2990, null, 0, CR2}     |{2990, Kazan International Airport, Kazan, Russia, KZN, 55.606201171875, 49.278701782227}|\n",
            "+----------------------------------------------------------------------------+-------------------------------------------------+----------------------------------------------------------------------+--------------------------------------------------+-----------------------------------------------------------------------------------------+\n",
            "only showing top 50 rows\n",
            "\n"
          ],
          "name": "stdout"
        }
      ]
    },
    {
      "cell_type": "markdown",
      "metadata": {
        "id": "eRHuEAasXIcr"
      },
      "source": [
        "Popularne lotniska, Które lotniska mają najwięcej lotów? Możemy obliczyć liczbę wylotów przy użyciu algorytmu Degree Centrality:\n",
        "\n",
        "Algorytm który oblicza liczbę łączy powiązań dla danego wierzchołka grafu z uwzględnieniem połączeń wychodzących i przychodzących\n"
      ]
    },
    {
      "cell_type": "code",
      "metadata": {
        "colab": {
          "base_uri": "https://localhost:8080/"
        },
        "id": "GxSWdG95VWhs",
        "outputId": "7f3366a8-c007-4178-de93-55a7d154c903"
      },
      "source": [
        "total_degree = g.degrees\n",
        "in_degree = g.inDegrees\n",
        "out_degree = g.outDegrees\n",
        "\n",
        "(total_degree.join(in_degree, \"id\", how=\"left\")\n",
        ".join(out_degree, \"id\", how=\"left\")\n",
        ".join(g.vertices, \"id\", how=\"left\")\n",
        "#.filter(\"country = 'Poland'\")\n",
        ".fillna(0)\n",
        ".sort(\"degree\", ascending=False)\n",
        ".show(n=100, truncate=False))"
      ],
      "execution_count": 29,
      "outputs": [
        {
          "output_type": "stream",
          "text": [
            "+---+------+--------+---------+-----+-----------------------------------------------------------------+-----------------+--------------------+-------------------+-------------------+\n",
            "|id |degree|inDegree|outDegree|_c0  |_c1                                                              |_c2              |country             |latitude           |longitude          |\n",
            "+---+------+--------+---------+-----+-----------------------------------------------------------------+-----------------+--------------------+-------------------+-------------------+\n",
            "|ATL|1826  |911     |915      |3682 |Hartsfield Jackson Atlanta International Airport                 |Atlanta          |United States       |33.6367            |-84.428101         |\n",
            "|ORD|1108  |550     |558      |3830 |Chicago O'Hare International Airport                             |Chicago          |United States       |41.9786            |-87.9048           |\n",
            "|PEK|1069  |534     |535      |3364 |Beijing Capital International Airport                            |Beijing          |China               |40.080101013183594 |116.58499908447266 |\n",
            "|LHR|1051  |524     |527      |507  |London Heathrow Airport                                          |London           |United Kingdom      |51.4706            |-0.461941          |\n",
            "|CDG|1041  |517     |524      |1382 |Charles de Gaulle International Airport                          |Paris            |France              |49.012798          |2.55               |\n",
            "|FRA|990   |493     |497      |340  |Frankfurt am Main Airport                                        |Frankfurt        |Germany             |50.033333          |8.570556           |\n",
            "|LAX|990   |498     |492      |3484 |Los Angeles International Airport                                |Los Angeles      |United States       |33.94250107        |-118.4079971       |\n",
            "|DFW|936   |467     |469      |3670 |Dallas Fort Worth International Airport                          |Dallas-Fort Worth|United States       |32.896801          |-97.038002         |\n",
            "|JFK|911   |455     |456      |3797 |John F Kennedy International Airport                             |New York         |United States       |40.63980103        |-73.77890015       |\n",
            "|AMS|903   |450     |453      |580  |Amsterdam Airport Schiphol                                       |Amsterdam        |Netherlands         |52.308601          |4.76389            |\n",
            "|PVG|825   |414     |411      |3406 |Shanghai Pudong International Airport                            |Shanghai         |China               |31.143400192260742 |121.80500030517578 |\n",
            "|SIN|820   |412     |408      |3316 |Singapore Changi Airport                                         |Singapore        |Singapore           |1.35019            |103.994003         |\n",
            "|BCN|783   |392     |391      |1218 |Barcelona International Airport                                  |Barcelona        |Spain               |41.2971            |2.07846            |\n",
            "|ICN|740   |370     |370      |3930 |Incheon International Airport                                    |Seoul            |South Korea         |37.46910095214844  |126.45099639892578 |\n",
            "|DEN|735   |374     |361      |3751 |Denver International Airport                                     |Denver           |United States       |39.861698150635    |-104.672996521     |\n",
            "|MIA|734   |366     |368      |3576 |Miami International Airport                                      |Miami            |United States       |25.79319953918457  |-80.29060363769531 |\n",
            "|MUC|728   |360     |368      |346  |Munich Airport                                                   |Munich           |Germany             |48.353802          |11.7861            |\n",
            "|IST|719   |361     |358      |13696|Istanbul Airport                                                 |Istanbul         |Turkey              |41.275278          |28.751944          |\n",
            "|HKG|710   |355     |355      |3077 |Hong Kong International Airport                                  |Hong Kong        |Hong Kong           |22.308901          |113.915001         |\n",
            "|DXB|710   |354     |356      |2188 |Dubai International Airport                                      |Dubai            |United Arab Emirates|25.2527999878      |55.3643989563      |\n",
            "|LGW|708   |352     |356      |502  |London Gatwick Airport                                           |London           |United Kingdom      |51.148102          |-0.190278          |\n",
            "|CAN|674   |336     |338      |3370 |Guangzhou Baiyun International Airport                           |Guangzhou        |China               |23.39240074157715  |113.29900360107422 |\n",
            "|FCO|662   |331     |331      |1555 |Leonardo da Vinci–Fiumicino Airport                              |Rome             |Italy               |41.8002778         |12.2388889         |\n",
            "|MAD|661   |331     |330      |1229 |Adolfo Suárez Madrid–Barajas Airport                             |Madrid           |Spain               |40.471926          |-3.56264           |\n",
            "|BKK|656   |330     |326      |3885 |Suvarnabhumi Airport                                             |Bangkok          |Thailand            |13.681099891662598 |100.74700164794922 |\n",
            "|DME|649   |325     |324      |4029 |Domodedovo International Airport                                 |Moscow           |Russia              |55.40879821777344  |37.90629959106445  |\n",
            "|CTU|647   |323     |324      |3395 |Chengdu Shuangliu International Airport                          |Chengdu          |China               |30.578500747680664 |103.9469985961914  |\n",
            "|YYZ|636   |317     |319      |193  |Lester B. Pearson International Airport                          |Toronto          |Canada              |43.6772003174      |-79.63059997559999 |\n",
            "|BRU|631   |315     |316      |302  |Brussels Airport                                                 |Brussels         |Belgium             |50.901401519800004 |4.48443984985      |\n",
            "|MAN|627   |311     |316      |478  |Manchester Airport                                               |Manchester       |United Kingdom      |53.35369873046875  |-2.2749500274658203|\n",
            "|VIE|616   |308     |308      |1613 |Vienna International Airport                                     |Vienna           |Austria             |48.110298156738    |16.569700241089    |\n",
            "|CLT|600   |299     |301      |3876 |Charlotte Douglas International Airport                          |Charlotte        |United States       |35.2140007019043   |-80.94309997558594 |\n",
            "|PHL|576   |287     |289      |3752 |Philadelphia International Airport                               |Philadelphia     |United States       |39.87189865112305  |-75.24109649658203 |\n",
            "|NRT|575   |289     |286      |2279 |Narita International Airport                                     |Tokyo            |Japan               |35.7647018433      |140.386001587      |\n",
            "|DUS|570   |285     |285      |345  |Düsseldorf Airport                                               |Duesseldorf      |Germany             |51.289501          |6.76678            |\n",
            "|XIY|563   |280     |283      |3379 |Xi'an Xianyang International Airport                             |Xi'an            |China               |34.447102          |108.751999         |\n",
            "|PMI|548   |277     |271      |3998 |Palma De Mallorca Airport                                        |Palma de Mallorca|Spain               |39.551700592       |2.73881006241      |\n",
            "|KMG|545   |272     |273      |3382 |Kunming Changshui International Airport                          |Kunming          |China               |25.1019444         |102.9291667        |\n",
            "|CKG|540   |270     |270      |3393 |Chongqing Jiangbei International Airport                         |Chongqing        |China               |29.719200134277344 |106.64199829101562 |\n",
            "|TPE|527   |263     |264      |2276 |Taiwan Taoyuan International Airport                             |Taipei           |Taiwan              |25.0777            |121.233002         |\n",
            "|DEL|527   |263     |264      |3093 |Indira Gandhi International Airport                              |Delhi            |India               |28.5665            |77.103104          |\n",
            "|KUL|514   |257     |257      |3304 |Kuala Lumpur International Airport                               |Kuala Lumpur     |Malaysia            |2.745579957962     |101.70999908447    |\n",
            "|PHX|508   |257     |251      |3462 |Phoenix Sky Harbor International Airport                         |Phoenix          |United States       |33.43429946899414  |-112.01200103759766|\n",
            "|HGH|506   |254     |252      |3386 |Hangzhou Xiaoshan International Airport                          |Hangzhou         |China               |30.22949981689453  |120.43399810791016 |\n",
            "|EWR|505   |252     |253      |3494 |Newark Liberty International Airport                             |Newark           |United States       |40.692501068115234 |-74.168701171875   |\n",
            "|SFO|499   |250     |249      |3469 |San Francisco International Airport                              |San Francisco    |United States       |37.61899948120117  |-122.375           |\n",
            "|LAS|498   |252     |246      |3877 |McCarran International Airport                                   |Las Vegas        |United States       |36.08010101        |-115.1520004       |\n",
            "|ZRH|494   |247     |247      |1678 |Zürich Airport                                                   |Zurich           |Switzerland         |47.464699          |8.54917            |\n",
            "|MEX|485   |242     |243      |1824 |Licenciado Benito Juarez International Airport                   |Mexico City      |Mexico              |19.4363            |-99.072098         |\n",
            "|IAH|485   |242     |243      |3550 |George Bush Intercontinental Houston Airport                     |Houston          |United States       |29.984399795532227 |-95.34140014648438 |\n",
            "|AUH|477   |236     |241      |2179 |Abu Dhabi International Airport                                  |Abu Dhabi        |United Arab Emirates|24.433000564575195 |54.651100158691406 |\n",
            "|MCO|475   |238     |237      |3878 |Orlando International Airport                                    |Orlando          |United States       |28.429399490356445 |-81.30899810791016 |\n",
            "|SZX|467   |233     |234      |3374 |Shenzhen Bao'an International Airport                            |Shenzhen         |China               |22.639299392700195 |113.81099700927734 |\n",
            "|XMN|466   |233     |233      |3383 |Xiamen Gaoqi International Airport                               |Xiamen           |China               |24.54400062561035  |118.12799835205078 |\n",
            "|CPH|457   |228     |229      |609  |Copenhagen Kastrup Airport                                       |Copenhagen       |Denmark             |55.617900848389    |12.656000137329    |\n",
            "|BOM|452   |225     |227      |2997 |Chhatrapati Shivaji International Airport                        |Mumbai           |India               |19.0886993408      |72.8678970337      |\n",
            "|ARN|439   |220     |219      |737  |Stockholm-Arlanda Airport                                        |Stockholm        |Sweden              |59.651901245117    |17.918600082397    |\n",
            "|LIS|435   |221     |214      |1638 |Humberto Delgado Airport (Lisbon Portela Airport)                |Lisbon           |Portugal            |38.7813            |-9.13592           |\n",
            "|DTW|433   |217     |216      |3645 |Detroit Metropolitan Wayne County Airport                        |Detroit          |United States       |42.212398529052734 |-83.35340118408203 |\n",
            "|MSP|430   |212     |218      |3858 |Minneapolis-St Paul International/Wold-Chamberlain Airport       |Minneapolis      |United States       |44.882             |-93.221802         |\n",
            "|BOS|424   |212     |212      |3448 |General Edward Lawrence Logan International Airport              |Boston           |United States       |42.36429977        |-71.00520325       |\n",
            "|TXL|418   |210     |208      |351  |Berlin-Tegel Airport                                             |Berlin           |Germany             |52.5597            |13.2877            |\n",
            "|DUB|414   |207     |207      |599  |Dublin Airport                                                   |Dublin           |Ireland             |53.421299          |-6.27007           |\n",
            "|SHA|411   |206     |205      |3391 |Shanghai Hongqiao International Airport                          |Shanghai         |China               |31.197900772094727 |121.33599853515625 |\n",
            "|SYD|410   |202     |208      |3361 |Sydney Kingsford Smith International Airport                     |Sydney           |Australia           |-33.94609832763672 |151.177001953125   |\n",
            "|AGP|410   |204     |206      |1230 |Málaga Airport                                                   |Malaga           |Spain               |36.67490005493164  |-4.499110221862793 |\n",
            "|ORY|404   |203     |201      |1386 |Paris-Orly Airport                                               |Paris            |France              |48.7233333         |2.3794444          |\n",
            "|ATH|403   |206     |197      |3941 |Eleftherios Venizelos International Airport                      |Athens           |Greece              |37.9364013672      |23.9444999695      |\n",
            "|SEA|403   |202     |201      |3577 |Seattle Tacoma International Airport                             |Seattle          |United States       |47.449001          |-122.308998        |\n",
            "|SVO|397   |198     |199      |2985 |Sheremetyevo International Airport                               |Moscow           |Russia              |55.972599          |37.4146            |\n",
            "|DCA|388   |192     |196      |3520 |Ronald Reagan Washington National Airport                        |Washington       |United States       |38.8521            |-77.037697         |\n",
            "|GRU|387   |194     |193      |2564 |Guarulhos - Governador André Franco Montoro International Airport|Sao Paulo        |Brazil              |-23.435556411743164|-46.47305679321289 |\n",
            "|IAD|386   |190     |196      |3714 |Washington Dulles International Airport                          |Washington       |United States       |38.94449997        |-77.45580292       |\n",
            "|MXP|386   |194     |192      |1524 |Malpensa International Airport                                   |Milano           |Italy               |45.6306            |8.72811            |\n",
            "|MNL|386   |193     |193      |2397 |Ninoy Aquino International Airport                               |Manila           |Philippines         |14.5086            |121.019997         |\n",
            "|JED|377   |183     |194      |2072 |King Abdulaziz International Airport                             |Jeddah           |Saudi Arabia        |21.6796            |39.156502          |\n",
            "|DOH|377   |188     |189      |11051|Hamad International Airport                                      |Doha             |Qatar               |25.273056          |51.608056          |\n",
            "|CSX|377   |188     |189      |3371 |Changsha Huanghua International Airport                          |Changcha         |China               |28.189199447599997 |113.220001221      |\n",
            "|TAO|376   |188     |188      |3390 |Liuting Airport                                                  |Qingdao          |China               |36.2661018372      |120.374000549      |\n",
            "|WUH|374   |187     |187      |3376 |Wuhan Tianhe International Airport                               |Wuhan            |China               |30.7838            |114.208            |\n",
            "|FLL|374   |188     |186      |3533 |Fort Lauderdale Hollywood International Airport                  |Fort Lauderdale  |United States       |26.072599          |-80.152702         |\n",
            "|YUL|371   |186     |185      |146  |Montreal / Pierre Elliott Trudeau International Airport          |Montreal         |Canada              |45.4706001282      |-73.7407989502     |\n",
            "|LED|368   |184     |184      |2948 |Pulkovo Airport                                                  |St. Petersburg   |Russia              |59.80030059814453  |30.262500762939453 |\n",
            "|CGK|367   |182     |185      |3275 |Soekarno-Hatta International Airport                             |Jakarta          |Indonesia           |-6.1255698204      |106.65599823       |\n",
            "|OSL|363   |183     |180      |644  |Oslo Lufthavn                                                    |Oslo             |Norway              |60.121             |11.0502            |\n",
            "|PRG|361   |181     |180      |1587 |Václav Havel Airport Prague                                      |Prague           |Czech Republic      |50.1008            |14.26              |\n",
            "|CGO|348   |174     |174      |3375 |Zhengzhou Xinzheng International Airport                         |Zhengzhou        |China               |34.519699096699995 |113.841003418      |\n",
            "|STN|343   |170     |173      |548  |London Stansted Airport                                          |London           |United Kingdom      |51.8849983215      |0.234999999404     |\n",
            "|NKG|330   |165     |165      |3388 |Nanjing Lukou Airport                                            |Nanjing          |China               |31.742000579833984 |118.86199951171875 |\n",
            "|GVA|329   |163     |166      |1665 |Geneva Cointrin International Airport                            |Geneva           |Switzerland         |46.23809814453125  |6.108950138092041  |\n",
            "|HAM|321   |160     |161      |342  |Hamburg Airport                                                  |Hamburg          |Germany             |53.630401611328    |9.9882297515869    |\n",
            "|JNB|321   |162     |159      |813  |OR Tambo International Airport                                   |Johannesburg     |South Africa        |-26.1392           |28.246             |\n",
            "|HEL|320   |161     |159      |421  |Helsinki Vantaa Airport                                          |Helsinki         |Finland             |60.317199707031    |24.963300704956    |\n",
            "|TFS|318   |159     |159      |1056 |Tenerife South Airport                                           |Tenerife         |Spain               |28.044500351       |-16.5725002289     |\n",
            "|LGA|316   |158     |158      |3697 |La Guardia Airport                                               |New York         |United States       |40.77719879        |-73.87259674       |\n",
            "|HND|315   |158     |157      |2359 |Tokyo Haneda International Airport                               |Tokyo            |Japan               |35.552299          |139.779999         |\n",
            "|YVR|315   |157     |158      |156  |Vancouver International Airport                                  |Vancouver        |Canada              |49.193901062       |-123.183998108     |\n",
            "|ALC|314   |157     |157      |1212 |Alicante International Airport                                   |Alicante         |Spain               |38.28219985961914  |-0.5581560134887695|\n",
            "|CUN|311   |154     |157      |1852 |Cancún International Airport                                     |Cancun           |Mexico              |21.036500930800003 |-86.8770980835     |\n",
            "|LPA|308   |154     |154      |1054 |Gran Canaria Airport                                             |Gran Canaria     |Spain               |27.931900024414062 |-15.38659954071045 |\n",
            "+---+------+--------+---------+-----+-----------------------------------------------------------------+-----------------+--------------------+-------------------+-------------------+\n",
            "only showing top 100 rows\n",
            "\n"
          ],
          "name": "stdout"
        }
      ]
    },
    {
      "cell_type": "markdown",
      "metadata": {
        "id": "4dzk5m14A8Bb"
      },
      "source": [
        "Analiza danych lotniczych z USA"
      ]
    },
    {
      "cell_type": "markdown",
      "metadata": {
        "id": "_C2Vi1ser3CM"
      },
      "source": [
        "Wczytanie wartości opisy portów lotniczych - węzły (node)"
      ]
    },
    {
      "cell_type": "code",
      "metadata": {
        "colab": {
          "base_uri": "https://localhost:8080/"
        },
        "id": "zKWpgugUr4hN",
        "outputId": "d27e352a-e2bf-4047-d43a-6190096ce1c7"
      },
      "source": [
        "nodes = spark.read.csv(\"sample_data/airports.csv\", header=False)\n",
        "\n",
        "nodes.columns\n",
        "\n",
        "cleaned_nodes = (nodes.select(\"_c0\", \"_c1\", \"_c3\", \"_c4\", \"_c6\", \"_c7\")\n",
        "                 .filter(\"_c3 = 'United States'\")\n",
        "                 #.withColumnRenamed(\"_c0\", \"lp\")\n",
        "                 .withColumnRenamed(\"_c1\", \"name\")\n",
        "                 .withColumnRenamed(\"_c4\", \"id\")\n",
        "                 .withColumnRenamed(\"_c6\", \"latitude\")\n",
        "                 .withColumnRenamed(\"_c7\", \"longitude\")\n",
        "                 .drop(\"_c3\"))\n",
        "\n",
        "cleaned_nodes = cleaned_nodes[cleaned_nodes[\"id\"] != \"\\\\N\"]\n",
        "cleaned_nodes.show()"
      ],
      "execution_count": 11,
      "outputs": [
        {
          "output_type": "stream",
          "text": [
            "+----+--------------------+---+------------------+-------------------+\n",
            "| _c0|                name| id|          latitude|          longitude|\n",
            "+----+--------------------+---+------------------+-------------------+\n",
            "|3411|Barter Island LRR...|BTI|     70.1340026855|     -143.582000732|\n",
            "|3413|Cape Lisburne LRR...|LUR|       68.87509918|       -166.1100006|\n",
            "|3414|Point Lay LRRS Ai...|PIZ|       69.73290253|       -163.0050049|\n",
            "|3415|Hilo Internationa...|ITO|19.721399307250977|-155.04800415039062|\n",
            "|3416|Orlando Executive...|ORL|   28.545499801636|   -81.332901000977|\n",
            "|3417|     Bettles Airport|BTT|       66.91390228|        -151.529007|\n",
            "|3418|       Clear Airport|Z84|         64.301201|        -149.119995|\n",
            "|3419|Indian Mountain L...|UTO|       65.99279785|       -153.7039948|\n",
            "|3420|  Fort Yukon Airport|FYU| 66.57150268554688|            -145.25|\n",
            "|3421|Sparrevohn LRRS A...|SVW|       61.09740067|       -155.5740051|\n",
            "|3422|Bryant Army Heliport|FRN|       61.26639938|       -149.6529999|\n",
            "|3423|Tatalina LRRS Air...|TLJ|62.894401550299996|     -155.977005005|\n",
            "|3424|Cape Romanzof LRR...|CZF|       61.78030014|       -166.0390015|\n",
            "|3425|Laurence G Hansco...|BED|       42.47000122|       -71.28900146|\n",
            "|3426|St Paul Island Ai...|SNP|57.167301177978516|-170.22000122070312|\n",
            "|3427|Cape Newenham LRR...|EHM|58.646400451699996|      -162.06300354|\n",
            "|3428|   St George Airport|STG|56.578300476100004|     -169.662002563|\n",
            "|3429|     Iliamna Airport|ILI|       59.75439835|       -154.9109955|\n",
            "|3430|    Platinum Airport|PTU| 59.01139831542969|-161.82000732421875|\n",
            "|3431|Big Mountain Airport|BMX|     59.3611984253|     -155.259002686|\n",
            "+----+--------------------+---+------------------+-------------------+\n",
            "only showing top 20 rows\n",
            "\n"
          ],
          "name": "stdout"
        }
      ]
    },
    {
      "cell_type": "markdown",
      "metadata": {
        "id": "TQGMk0EjEIP2"
      },
      "source": [
        "sprawdz typ danych"
      ]
    },
    {
      "cell_type": "code",
      "metadata": {
        "colab": {
          "base_uri": "https://localhost:8080/"
        },
        "id": "jdqGLzUcEL6h",
        "outputId": "86bf3e29-b4b9-4a5d-925a-50d6ae3f6756"
      },
      "source": [
        "print(\"typ sktuktury danych dla zmiennej nodes {0}\".format(type(nodes)))\n",
        "print(\"typ sktuktury danych dla zmiennej cleaned_nodes {0}\".format(type(cleaned_nodes)))"
      ],
      "execution_count": null,
      "outputs": [
        {
          "output_type": "stream",
          "text": [
            "typ sktuktury danych dla zmiennej nodes <class 'pyspark.sql.dataframe.DataFrame'>\n",
            "typ sktuktury danych dla zmiennej cleaned_nodes <class 'pyspark.sql.dataframe.DataFrame'>\n"
          ],
          "name": "stdout"
        }
      ]
    },
    {
      "cell_type": "markdown",
      "metadata": {
        "id": "nCj-9ShmEZyb"
      },
      "source": [
        "oblicz rozmiar ramki"
      ]
    },
    {
      "cell_type": "code",
      "metadata": {
        "colab": {
          "base_uri": "https://localhost:8080/"
        },
        "id": "7aqDHZYNjTZ6",
        "outputId": "9b0dfb9b-bae3-480e-9926-723d61b74408"
      },
      "source": [
        "print(\"Rozmiar ramki node {0}\".format(nodes.count()))\n",
        "print(\"Rozmiar ramki cleaned_node {0}\".format(cleaned_nodes.count()))"
      ],
      "execution_count": null,
      "outputs": [
        {
          "output_type": "stream",
          "text": [
            "Rozmiar ramki node 7184\n",
            "Rozmiar ramki cleaned_node 1333\n"
          ],
          "name": "stdout"
        }
      ]
    },
    {
      "cell_type": "code",
      "metadata": {
        "colab": {
          "base_uri": "https://localhost:8080/"
        },
        "id": "u4HVUun11D1M",
        "outputId": "07f7bfc2-d199-4b0c-a762-494aee763b47"
      },
      "source": [
        "cleaned_nodes.show(10, truncate=False)"
      ],
      "execution_count": null,
      "outputs": [
        {
          "output_type": "stream",
          "text": [
            "+----+----------------------------+---+------------------+-------------------+\n",
            "|_c0 |name                        |id |latitude          |longitude          |\n",
            "+----+----------------------------+---+------------------+-------------------+\n",
            "|3411|Barter Island LRRS Airport  |BTI|70.1340026855     |-143.582000732     |\n",
            "|3413|Cape Lisburne LRRS Airport  |LUR|68.87509918       |-166.1100006       |\n",
            "|3414|Point Lay LRRS Airport      |PIZ|69.73290253       |-163.0050049       |\n",
            "|3415|Hilo International Airport  |ITO|19.721399307250977|-155.04800415039062|\n",
            "|3416|Orlando Executive Airport   |ORL|28.545499801636   |-81.332901000977   |\n",
            "|3417|Bettles Airport             |BTT|66.91390228       |-151.529007        |\n",
            "|3418|Clear Airport               |Z84|64.301201         |-149.119995        |\n",
            "|3419|Indian Mountain LRRS Airport|UTO|65.99279785       |-153.7039948       |\n",
            "|3420|Fort Yukon Airport          |FYU|66.57150268554688 |-145.25            |\n",
            "|3421|Sparrevohn LRRS Airport     |SVW|61.09740067       |-155.5740051       |\n",
            "+----+----------------------------+---+------------------+-------------------+\n",
            "only showing top 10 rows\n",
            "\n"
          ],
          "name": "stdout"
        }
      ]
    },
    {
      "cell_type": "markdown",
      "metadata": {
        "id": "1junxrHksdjt"
      },
      "source": [
        "Wczytanie wartości relacji - krawędzie (egde) (dane o połączeniach za 1 miesiąc)\n"
      ]
    },
    {
      "cell_type": "code",
      "metadata": {
        "id": "caiOBfu-sege"
      },
      "source": [
        "relationships = spark.read.csv(\"sample_data/188591317_T_ONTIME.csv.gz\", header=True)\n",
        "\n",
        "cleaned_relationships = (relationships\n",
        "                         .select(\"ORIGIN\", \"DEST\", \"FL_DATE\", \"DEP_DELAY\", \"ARR_DELAY\",\n",
        "                                 \"DISTANCE\", \"TAIL_NUM\", \"FL_NUM\", \"CRS_DEP_TIME\",\n",
        "                                 \"CRS_ARR_TIME\", \"UNIQUE_CARRIER\")\n",
        "                         .withColumnRenamed(\"ORIGIN\", \"src\")\n",
        "                         .withColumnRenamed(\"DEST\", \"dst\")\n",
        "                         .withColumnRenamed(\"DEP_DELAY\", \"deptDelay\")\n",
        "                         .withColumnRenamed(\"ARR_DELAY\", \"arrDelay\")\n",
        "                         .withColumnRenamed(\"TAIL_NUM\", \"tailNumber\")\n",
        "                         .withColumnRenamed(\"FL_NUM\", \"flightNumber\")\n",
        "                         .withColumnRenamed(\"FL_DATE\", \"date\")\n",
        "                         .withColumnRenamed(\"CRS_DEP_TIME\", \"time\")\n",
        "                         .withColumnRenamed(\"CRS_ARR_TIME\", \"arrivalTime\")\n",
        "                         .withColumnRenamed(\"DISTANCE\", \"distance\")\n",
        "                         .withColumnRenamed(\"UNIQUE_CARRIER\", \"airline\")\n",
        "                         .withColumn(\"deptDelay\", F.col(\"deptDelay\").cast(FloatType()))\n",
        "                         .withColumn(\"arrDelay\", F.col(\"arrDelay\").cast(FloatType()))\n",
        "                         .withColumn(\"time\", F.col(\"time\").cast(IntegerType()))\n",
        "                         .withColumn(\"arrivalTime\", F.col(\"arrivalTime\").cast(IntegerType()))\n",
        "                         )"
      ],
      "execution_count": 12,
      "outputs": []
    },
    {
      "cell_type": "code",
      "metadata": {
        "colab": {
          "base_uri": "https://localhost:8080/"
        },
        "id": "wm8HTdulPVkN",
        "outputId": "59e5fb33-d959-4660-ff58-e2171318f1d8"
      },
      "source": [
        "print(\"Rozmiar ramki relationship {0}\".format(relationships.count()))\n",
        "print(\"Rozmiar ramki cleaned_relationships {0}\".format(cleaned_relationships.count()))"
      ],
      "execution_count": null,
      "outputs": [
        {
          "output_type": "stream",
          "text": [
            "Rozmiar ramki relationship 616529\n",
            "Rozmiar ramki cleaned_relationships 616529\n"
          ],
          "name": "stdout"
        }
      ]
    },
    {
      "cell_type": "code",
      "metadata": {
        "colab": {
          "base_uri": "https://localhost:8080/"
        },
        "id": "ETFZzX_PGMLi",
        "outputId": "67b681f8-b973-4fc0-f099-8dd3cfb6c64a"
      },
      "source": [
        "cleaned_relationships.show(10, truncate=False)\n",
        "cleaned_relationships.count()"
      ],
      "execution_count": null,
      "outputs": [
        {
          "output_type": "stream",
          "text": [
            "+---+---+----------+---------+--------+--------+----------+------------+----+-----------+-------+\n",
            "|src|dst|date      |deptDelay|arrDelay|distance|tailNumber|flightNumber|time|arrivalTime|airline|\n",
            "+---+---+----------+---------+--------+--------+----------+------------+----+-----------+-------+\n",
            "|ATL|SLC|2018-05-01|-1.0     |-3.0    |1590.00 |N6709     |15          |1920|2120       |DL     |\n",
            "|LAS|DTW|2018-05-01|7.0      |-2.0    |1749.00 |N820DN    |16          |1400|2102       |DL     |\n",
            "|DTW|LAS|2018-05-01|-4.0     |23.0    |1749.00 |N856DN    |17          |1757|1915       |DL     |\n",
            "|MSP|DTW|2018-05-01|-6.0     |-13.0   |528.00  |N329NB    |22          |1335|1615       |DL     |\n",
            "|DTW|MSP|2018-05-01|6.0      |6.0     |528.00  |N697DL    |23          |1556|1650       |DL     |\n",
            "|SAN|ATL|2018-05-01|-2.0     |-18.0   |1892.00 |N323DN    |30          |745 |1458       |DL     |\n",
            "|ATL|DFW|2018-05-01|-3.0     |-6.0    |731.00  |N901DE    |31          |1938|2102       |DL     |\n",
            "|DFW|ATL|2018-05-01|16.0     |2.0     |731.00  |N958DL    |32          |1720|2028       |DL     |\n",
            "|ATL|SAN|2018-05-01|-3.0     |-12.0   |1892.00 |N338DN    |33          |2110|2255       |DL     |\n",
            "|ANC|SEA|2018-05-01|-8.0     |-29.0   |1448.00 |N3745B    |34          |600 |1027       |DL     |\n",
            "+---+---+----------+---------+--------+--------+----------+------------+----+-----------+-------+\n",
            "only showing top 10 rows\n",
            "\n"
          ],
          "name": "stdout"
        },
        {
          "output_type": "execute_result",
          "data": {
            "text/plain": [
              "616529"
            ]
          },
          "metadata": {
            "tags": []
          },
          "execution_count": 41
        }
      ]
    },
    {
      "cell_type": "code",
      "metadata": {
        "colab": {
          "base_uri": "https://localhost:8080/"
        },
        "id": "nNDOhMqRG-q3",
        "outputId": "b07a18c3-13f0-4bee-9668-9b87d7715abb"
      },
      "source": [
        "print((cleaned_relationships.count(), len(cleaned_relationships.columns)))"
      ],
      "execution_count": null,
      "outputs": [
        {
          "output_type": "stream",
          "text": [
            "(616529, 11)\n"
          ],
          "name": "stdout"
        }
      ]
    },
    {
      "cell_type": "markdown",
      "metadata": {
        "id": "sl7r53EkgL3k"
      },
      "source": [
        "inicjalizacja grafów"
      ]
    },
    {
      "cell_type": "code",
      "metadata": {
        "id": "tCmO4WEmxMv7"
      },
      "source": [
        "#!export SPARK_OPTS=\"--packages graphframes:graphframes:0.8.0-spark3.0-s_2.12\"\n",
        "#from pyspark import SparkContext\n",
        "#spark.sparkContext.addPyFile('/content/spark-3.1.1-bin-hadoop2.7/jars/graphframes-0.8.0-spark3.0-s_2.12.jar')\n",
        "from graphframes import *\n",
        "g = GraphFrame(cleaned_nodes, cleaned_relationships)"
      ],
      "execution_count": 13,
      "outputs": []
    },
    {
      "cell_type": "markdown",
      "metadata": {
        "id": "C-__2XCQQicU"
      },
      "source": [
        "sprawdz typ danych"
      ]
    },
    {
      "cell_type": "code",
      "metadata": {
        "colab": {
          "base_uri": "https://localhost:8080/"
        },
        "id": "MW9344xmQSPy",
        "outputId": "9be1fae2-1e78-4df7-94d7-0a06526b03a8"
      },
      "source": [
        "print(\"typ sktuktury danych dla zmiennej g {0}\".format(type(g)))"
      ],
      "execution_count": null,
      "outputs": [
        {
          "output_type": "stream",
          "text": [
            "typ sktuktury danych dla zmiennej g <class 'graphframes.graphframe.GraphFrame'>\n"
          ],
          "name": "stdout"
        }
      ]
    },
    {
      "cell_type": "markdown",
      "metadata": {
        "id": "YAFfxSI8exaA"
      },
      "source": [
        "ile lotniksk mamy w grafie?"
      ]
    },
    {
      "cell_type": "code",
      "metadata": {
        "colab": {
          "base_uri": "https://localhost:8080/"
        },
        "id": "GbZT_s6Xe2sl",
        "outputId": "9c6a5008-ace9-4784-b526-d542aaaac7b2"
      },
      "source": [
        "g.vertices.count()"
      ],
      "execution_count": 14,
      "outputs": [
        {
          "output_type": "execute_result",
          "data": {
            "text/plain": [
              "1333"
            ]
          },
          "metadata": {
            "tags": []
          },
          "execution_count": 14
        }
      ]
    },
    {
      "cell_type": "markdown",
      "metadata": {
        "id": "rvZqRYPUe-CZ"
      },
      "source": [
        "ile mamy polączeń między lotniskami?"
      ]
    },
    {
      "cell_type": "code",
      "metadata": {
        "colab": {
          "base_uri": "https://localhost:8080/"
        },
        "id": "gteuSmXefApg",
        "outputId": "357334ee-969e-43ab-e7fc-ee8eaca12f88"
      },
      "source": [
        "g.edges.count()"
      ],
      "execution_count": null,
      "outputs": [
        {
          "output_type": "execute_result",
          "data": {
            "text/plain": [
              "616529"
            ]
          },
          "metadata": {
            "tags": []
          },
          "execution_count": 15
        }
      ]
    },
    {
      "cell_type": "markdown",
      "metadata": {
        "id": "klCbThdMg7ZW"
      },
      "source": [
        "Odczyt z pliku referencji kodów do nazw linii lotniczych. "
      ]
    },
    {
      "cell_type": "code",
      "metadata": {
        "colab": {
          "base_uri": "https://localhost:8080/"
        },
        "id": "1JNlYrjoJARm",
        "outputId": "a8e60a76-18c0-41ea-d92b-6679eb939c57"
      },
      "source": [
        "airlines_reference = (spark.read.csv(\"sample_data/airlines.csv\")\n",
        ".select(\"_c1\", \"_c3\")\n",
        ".withColumnRenamed(\"_c1\", \"name\")\n",
        ".withColumnRenamed(\"_c3\", \"code\"))\n",
        "airlines_reference = airlines_reference[airlines_reference[\"code\"] != \"null\"]\n",
        "airlines_reference.show(10, truncate=False)\n",
        "airlines_reference.count()"
      ],
      "execution_count": null,
      "outputs": [
        {
          "output_type": "stream",
          "text": [
            "+--------------------+----+\n",
            "|name                |code|\n",
            "+--------------------+----+\n",
            "|Unknown             |-   |\n",
            "|Private flight      |-   |\n",
            "|1Time Airline       |1T  |\n",
            "|40-Mile Air         |Q5  |\n",
            "|Ansett Australia    |AN  |\n",
            "|Abacus International|1B  |\n",
            "|Abelag Aviation     |W9  |\n",
            "|Aigle Azur          |ZI  |\n",
            "|Aloha Airlines      |AQ  |\n",
            "|American Airlines   |AA  |\n",
            "+--------------------+----+\n",
            "only showing top 10 rows\n",
            "\n"
          ],
          "name": "stdout"
        },
        {
          "output_type": "execute_result",
          "data": {
            "text/plain": [
              "1537"
            ]
          },
          "metadata": {
            "tags": []
          },
          "execution_count": 10
        }
      ]
    },
    {
      "cell_type": "markdown",
      "metadata": {
        "id": "qq_S-3hSBgFP"
      },
      "source": [
        "Identyfikacja wszystkich linii lotniczych i ustalenie ile lotów przypada na każdą z nich. "
      ]
    },
    {
      "cell_type": "code",
      "metadata": {
        "colab": {
          "base_uri": "https://localhost:8080/"
        },
        "id": "V_81HuoeBlMu",
        "outputId": "80587faa-51e1-4b72-838d-2dfa97c1cbdb"
      },
      "source": [
        "#wykaz linii lotniczych - pobrany z grafa edges (loty)\n",
        "airlines = (g.edges\n",
        " .groupBy(\"airline\")\n",
        " .agg(F.count(\"airline\").alias(\"flights1\"))\n",
        " .sort(\"flights1\", ascending=False))\n",
        "\n",
        "full_name_airlines = (airlines_reference\n",
        "                      .join(airlines, airlines.airline == airlines_reference.code)\n",
        "                      .select(\"code\", \"name\", \"flights1\")\n",
        "                      .sort(\"flights1\", ascending=False))\n",
        "\n",
        "\n",
        "\n",
        "#ax = (full_name_airlines.toPandas()\n",
        "     # .plot(kind='bar', x='name', y='flights1', legend=None))\n",
        "        \n",
        "\n",
        "airlines.show(truncate= False)\n",
        "full_name_airlines.show(n=100,truncate = False)\n"
      ],
      "execution_count": null,
      "outputs": [
        {
          "output_type": "stream",
          "text": [
            "+-------+--------+\n",
            "|airline|flights1|\n",
            "+-------+--------+\n",
            "|WN     |116849  |\n",
            "|DL     |81735   |\n",
            "|AA     |77957   |\n",
            "|OO     |65157   |\n",
            "|UA     |52816   |\n",
            "|YX     |27398   |\n",
            "|B6     |26513   |\n",
            "|MQ     |25364   |\n",
            "|OH     |23869   |\n",
            "|AS     |22974   |\n",
            "|9E     |21097   |\n",
            "|YV     |17866   |\n",
            "|EV     |16661   |\n",
            "|NK     |14889   |\n",
            "|F9     |10297   |\n",
            "|G4     |8033    |\n",
            "|HA     |7054    |\n",
            "+-------+--------+\n",
            "\n",
            "+----+---------------------------+--------+\n",
            "|code|name                       |flights1|\n",
            "+----+---------------------------+--------+\n",
            "|WN  |Southwest Airlines         |116849  |\n",
            "|DL  |Delta Air Lines            |81735   |\n",
            "|AA  |American Airlines          |77957   |\n",
            "|OO  |SkyWest                    |65157   |\n",
            "|UA  |United Airlines            |52816   |\n",
            "|YX  |Midwest Airlines           |27398   |\n",
            "|B6  |JetBlue Airways            |26513   |\n",
            "|MQ  |American Eagle Airlines    |25364   |\n",
            "|OH  |Comair                     |23869   |\n",
            "|AS  |Alaska Airlines            |22974   |\n",
            "|9E  |Pinnacle Airlines          |21097   |\n",
            "|YV  |Mesa Airlines              |17866   |\n",
            "|EV  |Atlantic Southeast Airlines|16661   |\n",
            "|NK  |Spirit Airlines            |14889   |\n",
            "|F9  |Frontier Airlines          |10297   |\n",
            "|G4  |Allegiant Air              |8033    |\n",
            "|HA  |Hawaiian Airlines          |7054    |\n",
            "+----+---------------------------+--------+\n",
            "\n"
          ],
          "name": "stdout"
        }
      ]
    },
    {
      "cell_type": "code",
      "metadata": {
        "colab": {
          "base_uri": "https://localhost:8080/"
        },
        "id": "kYmsP77_Lg1C",
        "outputId": "8ef9c830-f6db-432f-9b6e-0213cb7ba2ff"
      },
      "source": [
        "print(\"typ sktuktury danych dla zmiennej g {0}\".format(type(g)))"
      ],
      "execution_count": null,
      "outputs": [
        {
          "output_type": "stream",
          "text": [
            "typ sktuktury danych dla zmiennej g <class 'graphframes.graphframe.GraphFrame'>\n"
          ],
          "name": "stdout"
        }
      ]
    },
    {
      "cell_type": "markdown",
      "metadata": {
        "id": "N5YQLZ8FKjKN"
      },
      "source": [
        "max opóżnienia w lotach dla dst"
      ]
    },
    {
      "cell_type": "code",
      "metadata": {
        "colab": {
          "base_uri": "https://localhost:8080/",
          "height": 619
        },
        "id": "6E9_Ocy7KlyU",
        "outputId": "8dbd0362-4d91-456b-8f62-be56b8897cdd"
      },
      "source": [
        "delayed_flights = (g.edges                      #zmienna z połączeniami (g.edges) filtrowana dla opóźnień więszych od 0\n",
        ".filter(\"deptDelay > 0\")\n",
        ".groupBy(\"dst\")\n",
        ".agg(F.avg(\"deptDelay\"), F.count(\"deptDelay\"))\n",
        ".withColumn(\"averageDelay\",F.round(F.col(\"avg(deptDelay)\"), 2))\n",
        ".withColumn(\"numberOfDelays\",F.col(\"count(deptDelay)\")))\n",
        "delayed_flights.show(n=10, truncate=False)\n",
        "\n",
        "(delayed_flights                                 #join pomiędzy delayed_flights a g.vertices\n",
        ".join(g.vertices, delayed_flights.dst == g.vertices.id)\n",
        ".sort(F.desc(\"averageDelay\"))\n",
        ".select(\"dst\", \"name\", \"averageDelay\", \"numberOfDelays\")\n",
        ".show(n=10, truncate=False))"
      ],
      "execution_count": 20,
      "outputs": [
        {
          "output_type": "error",
          "ename": "AnalysisException",
          "evalue": "ignored",
          "traceback": [
            "\u001b[0;31m---------------------------------------------------------------------------\u001b[0m",
            "\u001b[0;31mAnalysisException\u001b[0m                         Traceback (most recent call last)",
            "\u001b[0;32m<ipython-input-20-d940385d4ef7>\u001b[0m in \u001b[0;36m<module>\u001b[0;34m()\u001b[0m\n\u001b[1;32m      1\u001b[0m delayed_flights = (g.edges                      #zmienna z połączeniami (g.edges) filtrowana dla opóźnień więszych od 0\n\u001b[0;32m----> 2\u001b[0;31m \u001b[0;34m.\u001b[0m\u001b[0mfilter\u001b[0m\u001b[0;34m(\u001b[0m\u001b[0;34m\"deptDelay > 0\"\u001b[0m\u001b[0;34m)\u001b[0m\u001b[0;34m\u001b[0m\u001b[0;34m\u001b[0m\u001b[0m\n\u001b[0m\u001b[1;32m      3\u001b[0m \u001b[0;34m.\u001b[0m\u001b[0mgroupBy\u001b[0m\u001b[0;34m(\u001b[0m\u001b[0;34m\"dst\"\u001b[0m\u001b[0;34m)\u001b[0m\u001b[0;34m\u001b[0m\u001b[0;34m\u001b[0m\u001b[0m\n\u001b[1;32m      4\u001b[0m \u001b[0;34m.\u001b[0m\u001b[0magg\u001b[0m\u001b[0;34m(\u001b[0m\u001b[0mF\u001b[0m\u001b[0;34m.\u001b[0m\u001b[0mavg\u001b[0m\u001b[0;34m(\u001b[0m\u001b[0;34m\"deptDelay\"\u001b[0m\u001b[0;34m)\u001b[0m\u001b[0;34m,\u001b[0m \u001b[0mF\u001b[0m\u001b[0;34m.\u001b[0m\u001b[0mcount\u001b[0m\u001b[0;34m(\u001b[0m\u001b[0;34m\"deptDelay\"\u001b[0m\u001b[0;34m)\u001b[0m\u001b[0;34m)\u001b[0m\u001b[0;34m\u001b[0m\u001b[0;34m\u001b[0m\u001b[0m\n\u001b[1;32m      5\u001b[0m \u001b[0;34m.\u001b[0m\u001b[0mwithColumn\u001b[0m\u001b[0;34m(\u001b[0m\u001b[0;34m\"averageDelay\"\u001b[0m\u001b[0;34m,\u001b[0m\u001b[0mF\u001b[0m\u001b[0;34m.\u001b[0m\u001b[0mround\u001b[0m\u001b[0;34m(\u001b[0m\u001b[0mF\u001b[0m\u001b[0;34m.\u001b[0m\u001b[0mcol\u001b[0m\u001b[0;34m(\u001b[0m\u001b[0;34m\"avg(deptDelay)\"\u001b[0m\u001b[0;34m)\u001b[0m\u001b[0;34m,\u001b[0m \u001b[0;36m2\u001b[0m\u001b[0;34m)\u001b[0m\u001b[0;34m)\u001b[0m\u001b[0;34m\u001b[0m\u001b[0;34m\u001b[0m\u001b[0m\n",
            "\u001b[0;32m/content/spark-3.1.1-bin-hadoop2.7/python/pyspark/sql/dataframe.py\u001b[0m in \u001b[0;36mfilter\u001b[0;34m(self, condition)\u001b[0m\n\u001b[1;32m   1713\u001b[0m         \"\"\"\n\u001b[1;32m   1714\u001b[0m         \u001b[0;32mif\u001b[0m \u001b[0misinstance\u001b[0m\u001b[0;34m(\u001b[0m\u001b[0mcondition\u001b[0m\u001b[0;34m,\u001b[0m \u001b[0mstr\u001b[0m\u001b[0;34m)\u001b[0m\u001b[0;34m:\u001b[0m\u001b[0;34m\u001b[0m\u001b[0;34m\u001b[0m\u001b[0m\n\u001b[0;32m-> 1715\u001b[0;31m             \u001b[0mjdf\u001b[0m \u001b[0;34m=\u001b[0m \u001b[0mself\u001b[0m\u001b[0;34m.\u001b[0m\u001b[0m_jdf\u001b[0m\u001b[0;34m.\u001b[0m\u001b[0mfilter\u001b[0m\u001b[0;34m(\u001b[0m\u001b[0mcondition\u001b[0m\u001b[0;34m)\u001b[0m\u001b[0;34m\u001b[0m\u001b[0;34m\u001b[0m\u001b[0m\n\u001b[0m\u001b[1;32m   1716\u001b[0m         \u001b[0;32melif\u001b[0m \u001b[0misinstance\u001b[0m\u001b[0;34m(\u001b[0m\u001b[0mcondition\u001b[0m\u001b[0;34m,\u001b[0m \u001b[0mColumn\u001b[0m\u001b[0;34m)\u001b[0m\u001b[0;34m:\u001b[0m\u001b[0;34m\u001b[0m\u001b[0;34m\u001b[0m\u001b[0m\n\u001b[1;32m   1717\u001b[0m             \u001b[0mjdf\u001b[0m \u001b[0;34m=\u001b[0m \u001b[0mself\u001b[0m\u001b[0;34m.\u001b[0m\u001b[0m_jdf\u001b[0m\u001b[0;34m.\u001b[0m\u001b[0mfilter\u001b[0m\u001b[0;34m(\u001b[0m\u001b[0mcondition\u001b[0m\u001b[0;34m.\u001b[0m\u001b[0m_jc\u001b[0m\u001b[0;34m)\u001b[0m\u001b[0;34m\u001b[0m\u001b[0;34m\u001b[0m\u001b[0m\n",
            "\u001b[0;32m/content/spark-3.1.1-bin-hadoop2.7/python/lib/py4j-0.10.9-src.zip/py4j/java_gateway.py\u001b[0m in \u001b[0;36m__call__\u001b[0;34m(self, *args)\u001b[0m\n\u001b[1;32m   1303\u001b[0m         \u001b[0manswer\u001b[0m \u001b[0;34m=\u001b[0m \u001b[0mself\u001b[0m\u001b[0;34m.\u001b[0m\u001b[0mgateway_client\u001b[0m\u001b[0;34m.\u001b[0m\u001b[0msend_command\u001b[0m\u001b[0;34m(\u001b[0m\u001b[0mcommand\u001b[0m\u001b[0;34m)\u001b[0m\u001b[0;34m\u001b[0m\u001b[0;34m\u001b[0m\u001b[0m\n\u001b[1;32m   1304\u001b[0m         return_value = get_return_value(\n\u001b[0;32m-> 1305\u001b[0;31m             answer, self.gateway_client, self.target_id, self.name)\n\u001b[0m\u001b[1;32m   1306\u001b[0m \u001b[0;34m\u001b[0m\u001b[0m\n\u001b[1;32m   1307\u001b[0m         \u001b[0;32mfor\u001b[0m \u001b[0mtemp_arg\u001b[0m \u001b[0;32min\u001b[0m \u001b[0mtemp_args\u001b[0m\u001b[0;34m:\u001b[0m\u001b[0;34m\u001b[0m\u001b[0;34m\u001b[0m\u001b[0m\n",
            "\u001b[0;32m/content/spark-3.1.1-bin-hadoop2.7/python/pyspark/sql/utils.py\u001b[0m in \u001b[0;36mdeco\u001b[0;34m(*a, **kw)\u001b[0m\n\u001b[1;32m    115\u001b[0m                 \u001b[0;31m# Hide where the exception came from that shows a non-Pythonic\u001b[0m\u001b[0;34m\u001b[0m\u001b[0;34m\u001b[0m\u001b[0;34m\u001b[0m\u001b[0m\n\u001b[1;32m    116\u001b[0m                 \u001b[0;31m# JVM exception message.\u001b[0m\u001b[0;34m\u001b[0m\u001b[0;34m\u001b[0m\u001b[0;34m\u001b[0m\u001b[0m\n\u001b[0;32m--> 117\u001b[0;31m                 \u001b[0;32mraise\u001b[0m \u001b[0mconverted\u001b[0m \u001b[0;32mfrom\u001b[0m \u001b[0;32mNone\u001b[0m\u001b[0;34m\u001b[0m\u001b[0;34m\u001b[0m\u001b[0m\n\u001b[0m\u001b[1;32m    118\u001b[0m             \u001b[0;32melse\u001b[0m\u001b[0;34m:\u001b[0m\u001b[0;34m\u001b[0m\u001b[0;34m\u001b[0m\u001b[0m\n\u001b[1;32m    119\u001b[0m                 \u001b[0;32mraise\u001b[0m\u001b[0;34m\u001b[0m\u001b[0;34m\u001b[0m\u001b[0m\n",
            "\u001b[0;31mAnalysisException\u001b[0m: cannot resolve '`deptDelay`' given input columns: [c0, c1, c3, c5, c6, c7, c8, dst, src]; line 1 pos 0;\n'Filter ('deptDelay > 0)\n+- Project [c0#2059, c1#2069, src#2079, c3#2089, dst#2099, c5#2109, c6#2119, c7#2129, _c8#2040 AS c8#2139]\n   +- Project [c0#2059, c1#2069, src#2079, c3#2089, dst#2099, c5#2109, c6#2119, _c7#2039 AS c7#2129, _c8#2040]\n      +- Project [c0#2059, c1#2069, src#2079, c3#2089, dst#2099, c5#2109, _c6#2038 AS c6#2119, _c7#2039, _c8#2040]\n         +- Project [c0#2059, c1#2069, src#2079, c3#2089, dst#2099, _c5#2037 AS c5#2109, _c6#2038, _c7#2039, _c8#2040]\n            +- Project [c0#2059, c1#2069, src#2079, c3#2089, _c4#2036 AS dst#2099, _c5#2037, _c6#2038, _c7#2039, _c8#2040]\n               +- Project [c0#2059, c1#2069, src#2079, _c3#2035 AS c3#2089, _c4#2036, _c5#2037, _c6#2038, _c7#2039, _c8#2040]\n                  +- Project [c0#2059, c1#2069, _c2#2034 AS src#2079, _c3#2035, _c4#2036, _c5#2037, _c6#2038, _c7#2039, _c8#2040]\n                     +- Project [c0#2059, _c1#2033 AS c1#2069, _c2#2034, _c3#2035, _c4#2036, _c5#2037, _c6#2038, _c7#2039, _c8#2040]\n                        +- Project [_c0#2032 AS c0#2059, _c1#2033, _c2#2034, _c3#2035, _c4#2036, _c5#2037, _c6#2038, _c7#2039, _c8#2040]\n                           +- Project [_c0#2032, _c1#2033, _c2#2034, _c3#2035, _c4#2036, _c5#2037, _c6#2038, _c7#2039, _c8#2040]\n                              +- Relation[_c0#2032,_c1#2033,_c2#2034,_c3#2035,_c4#2036,_c5#2037,_c6#2038,_c7#2039,_c8#2040] csv\n"
          ]
        }
      ]
    },
    {
      "cell_type": "markdown",
      "metadata": {
        "id": "xmKeT6wJfUAp"
      },
      "source": [
        "Popularne lotniska, Które lotniska mają najwięcej lotów? Możemy obliczyć liczbę wylotów przy użyciu algorytmu Degree Centrality:\n",
        "\n",
        "Algorytm który oblicza liczbę łączy powiązań dla danego wierzchołka grafu z uwzględnieniem połączeń wychodzących i przychodzących"
      ]
    },
    {
      "cell_type": "code",
      "metadata": {
        "colab": {
          "base_uri": "https://localhost:8080/"
        },
        "id": "3O_T_41OOoXm",
        "outputId": "9b44e8ce-fc92-4bff-f6b4-b97f397cba89"
      },
      "source": [
        "total_degree = g.degrees\n",
        "in_degree = g.inDegrees\n",
        "out_degree = g.outDegrees\n",
        "\n",
        "(total_degree.join(in_degree, \"id\", how=\"left\")\n",
        ".join(out_degree, \"id\", how=\"left\")\n",
        ".fillna(0)\n",
        ".sort(\"degree\", ascending=False)\n",
        ".show())"
      ],
      "execution_count": 21,
      "outputs": [
        {
          "output_type": "stream",
          "text": [
            "+---+------+--------+---------+\n",
            "| id|degree|inDegree|outDegree|\n",
            "+---+------+--------+---------+\n",
            "|ATL|  1826|     911|      915|\n",
            "|ORD|  1108|     550|      558|\n",
            "|PEK|  1069|     534|      535|\n",
            "|LHR|  1051|     524|      527|\n",
            "|CDG|  1041|     517|      524|\n",
            "|FRA|   990|     493|      497|\n",
            "|LAX|   990|     498|      492|\n",
            "|DFW|   936|     467|      469|\n",
            "|JFK|   911|     455|      456|\n",
            "|AMS|   903|     450|      453|\n",
            "|PVG|   825|     414|      411|\n",
            "|SIN|   820|     412|      408|\n",
            "|BCN|   783|     392|      391|\n",
            "|ICN|   740|     370|      370|\n",
            "|DEN|   735|     374|      361|\n",
            "|MIA|   734|     366|      368|\n",
            "|MUC|   728|     360|      368|\n",
            "|IST|   719|     361|      358|\n",
            "|DXB|   710|     354|      356|\n",
            "|HKG|   710|     355|      355|\n",
            "+---+------+--------+---------+\n",
            "only showing top 20 rows\n",
            "\n"
          ],
          "name": "stdout"
        }
      ]
    },
    {
      "cell_type": "markdown",
      "metadata": {
        "id": "_tlyAT_0gi27"
      },
      "source": [
        "W naszym scenariuszu często podróżujemy między zachodnim a wschodnim wybrzeżem i chcemy zobaczyć\n",
        "opóźnienia przez węzeł komunikacyjny, na przykład międzynarodowe lotnisko Chicago O’Hare (ORD).\n",
        "\n",
        "Chcemy znalesc wychodzące loty z lotniska ORD z największymi opóźnieniami\n",
        "\n",
        "Po obliczeniu średniego opóźnienia pogrupowanego według miejsca docelowego dołączamy do wynikowego\n",
        "Spark DataFrame z DataFrame zawierającą wszystkie wierzchołki, abyśmy mogli wydrukować liste\n",
        "z nazwą lotniska docelowego.\n",
        "Uruchomienie tego kodu zwraca 10 miejsc docelowych z największymi opóźnieniami"
      ]
    },
    {
      "cell_type": "code",
      "metadata": {
        "colab": {
          "base_uri": "https://localhost:8080/"
        },
        "id": "8DG57YxkgkvT",
        "outputId": "3086dded-1fb7-41c2-a4c6-0dd3bf23772e"
      },
      "source": [
        "delayed_flights = (g.edges\n",
        ".filter(\"src = 'ORD' and deptDelay > 0\")\n",
        ".groupBy(\"dst\")\n",
        ".agg(F.avg(\"deptDelay\"), F.count(\"deptDelay\"))\n",
        ".withColumn(\"averageDelay\",\n",
        "F.round(F.col(\"avg(deptDelay)\"), 2))\n",
        ".withColumn(\"numberOfDelays\",\n",
        "F.col(\"count(deptDelay)\")))\n",
        "delayed_flights.show(n=10, truncate=False)\n",
        "\n",
        "(delayed_flights\n",
        ".join(g.vertices, delayed_flights.dst == g.vertices.id)     \n",
        ".sort(F.desc(\"averageDelay\"))\n",
        ".select(\"dst\", \"name\", \"averageDelay\", \"numberOfDelays\")\n",
        ".show(n=25, truncate=False))"
      ],
      "execution_count": null,
      "outputs": [
        {
          "output_type": "stream",
          "text": [
            "+---+------------------+----------------+------------+--------------+\n",
            "|dst|avg(deptDelay)    |count(deptDelay)|averageDelay|numberOfDelays|\n",
            "+---+------------------+----------------+------------+--------------+\n",
            "|MSY|47.34615384615385 |52              |47.35       |52            |\n",
            "|GEG|46.0              |15              |46.0        |15            |\n",
            "|SNA|45.979166666666664|96              |45.98       |96            |\n",
            "|GRB|45.787234042553195|47              |45.79       |47            |\n",
            "|GRR|44.27272727272727 |66              |44.27       |66            |\n",
            "|LWB|59.4              |15              |59.4        |15            |\n",
            "|MYR|33.5              |8               |33.5        |8             |\n",
            "|PVD|66.73333333333333 |45              |66.73       |45            |\n",
            "|GSO|38.25             |20              |38.25       |20            |\n",
            "|OAK|19.4              |10              |19.4        |10            |\n",
            "+---+------------------+----------------+------------+--------------+\n",
            "only showing top 10 rows\n",
            "\n",
            "+---+-------------------------------------------+------------+--------------+\n",
            "|dst|name                                       |averageDelay|numberOfDelays|\n",
            "+---+-------------------------------------------+------------+--------------+\n",
            "|CKB|North Central West Virginia Airport        |145.08      |12            |\n",
            "|OGG|Kahului Airport                            |119.67      |9             |\n",
            "|MQT|Sawyer International Airport               |114.75      |12            |\n",
            "|MOB|Mobile Regional Airport                    |102.2       |10            |\n",
            "|TTN|Trenton Mercer Airport                     |101.18      |17            |\n",
            "|AVL|Asheville Regional Airport                 |98.5        |28            |\n",
            "|ISP|Long Island Mac Arthur Airport             |94.08       |13            |\n",
            "|ANC|Ted Stevens Anchorage International Airport|83.74       |23            |\n",
            "|BTV|Burlington International Airport           |83.2        |25            |\n",
            "|CMX|Houghton County Memorial Airport           |79.18       |17            |\n",
            "|MBS|MBS International Airport                  |76.16       |38            |\n",
            "|SMF|Sacramento International Airport           |74.43       |47            |\n",
            "|COS|City of Colorado Springs Municipal Airport |74.06       |66            |\n",
            "|LAN|Capital City Airport                       |72.51       |35            |\n",
            "|IAD|Washington Dulles International Airport    |70.87       |70            |\n",
            "|CAK|Akron Canton Regional Airport              |69.71       |21            |\n",
            "|RAP|Rapid City Regional Airport                |69.29       |24            |\n",
            "|FWA|Fort Wayne International Airport           |67.02       |66            |\n",
            "|MKG|Muskegon County Airport                    |67.0        |15            |\n",
            "|PVD|Theodore Francis Green State Airport       |66.73       |45            |\n",
            "|JFK|John F Kennedy International Airport       |65.02       |167           |\n",
            "|LEX|Blue Grass Airport                         |63.97       |34            |\n",
            "|EAU|Chippewa Valley Regional Airport           |63.77       |22            |\n",
            "|TUS|Tucson International Airport               |62.98       |45            |\n",
            "|PNS|Pensacola Regional Airport                 |62.17       |18            |\n",
            "+---+-------------------------------------------+------------+--------------+\n",
            "only showing top 25 rows\n",
            "\n"
          ],
          "name": "stdout"
        }
      ]
    },
    {
      "cell_type": "markdown",
      "metadata": {
        "id": "Y6vYNiz2hPb6"
      },
      "source": [
        "To interesujące, ale jeden punkt danych naprawdę się wyróżnia: 11 lotów z ORD do CKB\n",
        "były opóźnione średnio o ponad 2,5 godziny! Znajdźmy loty pomiędzy\n",
        "tymi lotniskami i zobaczmy co się dzieje.\n",
        "\n",
        "funkcja bfs to poszukiwanie najkrótszej ścieżki w nieważonym grafie"
      ]
    },
    {
      "cell_type": "code",
      "metadata": {
        "id": "rJ2T11uViq2I"
      },
      "source": [
        "from_expr = 'id = \"ORD\"'\n",
        "to_expr = 'id = \"PNS\"'\n",
        "ord_to_ckb = g.bfs(from_expr, to_expr, maxPathLength=10)\n",
        "print(ord_to_ckb.columns)\n",
        "ord_to_ckb = ord_to_ckb.select(\n",
        "F.col(\"e0.date\"),\n",
        "F.col(\"e0.time\"),\n",
        "F.col(\"e0.flightNumber\"),\n",
        "F.col(\"e0.deptDelay\"))\n",
        "#ord_to_ckb.sort(F.col(\"e0.deptDelay\"))\n",
        "ord_to_ckb.show(n=200, truncate=False)\n",
        "ord_to_ckb.count()"
      ],
      "execution_count": null,
      "outputs": []
    },
    {
      "cell_type": "code",
      "metadata": {
        "id": "Hu1G7wp1zN6S"
      },
      "source": [
        "notDirect =0\n",
        "for airPort in g.vertices.select(\"id\").collect():\n",
        "  for airPort1 in g.vertices.select(\"id\").collect():\n",
        "    airPort = 'id = \"{airPort}\"'\n",
        "    airPort1 = 'id = \"{airPort1}\"'\n",
        "\n",
        "    #print(\"{} {}\".format(airPort, airPort1))\n",
        "    if g.bfs(airPort, airPort1, maxPathLength=0):\n",
        "      notDirect +=1;\n",
        "print(notDirect)"
      ],
      "execution_count": null,
      "outputs": []
    },
    {
      "cell_type": "code",
      "metadata": {
        "colab": {
          "base_uri": "https://localhost:8080/",
          "height": 135
        },
        "id": "1n9ZTa1j6u-x",
        "outputId": "c7b71e4a-e54d-4b71-ee89-08bb87ae5412"
      },
      "source": [
        "    sqlDF.foreach { row => \n",
        "           row.g.vertices.foreach{col => println(col) }\n",
        "    }"
      ],
      "execution_count": null,
      "outputs": [
        {
          "output_type": "error",
          "ename": "SyntaxError",
          "evalue": "ignored",
          "traceback": [
            "\u001b[0;36m  File \u001b[0;32m\"<ipython-input-126-9612b6209301>\"\u001b[0;36m, line \u001b[0;32m1\u001b[0m\n\u001b[0;31m    sqlDF.foreach { row =>\u001b[0m\n\u001b[0m                  ^\u001b[0m\n\u001b[0;31mSyntaxError\u001b[0m\u001b[0;31m:\u001b[0m invalid syntax\n"
          ]
        }
      ]
    },
    {
      "cell_type": "markdown",
      "metadata": {
        "id": "lMmRL2tZi5Xt"
      },
      "source": [
        "Teraz możemy wydrukować wykres za pomocą następującego kodu. \n",
        "Około połowa lotów była opóźniona, ale opóźnienie o ponad 14 godzin w dniu 2 maja,\n",
        "2018, znacznie wypaczył średnią.\n",
        "A co, jeśli chcemy znaleźć opóźnienia przy wejściu i wyjściu z przybrzeżnego lotniska? Te\n",
        "lotniska często są narażone na niekorzystne warunki pogodowe, więc możemy być w stanie znaleźć\n",
        "kilka interesujących opóźnień"
      ]
    },
    {
      "cell_type": "code",
      "metadata": {
        "colab": {
          "base_uri": "https://localhost:8080/",
          "height": 289
        },
        "id": "zDrWZQpqjIlj",
        "outputId": "16af3d36-93be-4df5-f24c-a98f2085285b"
      },
      "source": [
        "ax = (ord_to_ckb\n",
        ".sort(\"date\")\n",
        ".toPandas()\n",
        ".plot(kind='bar', x='date', y='deptDelay', legend=None))\n",
        "ax.xaxis.set_label_text(\"\")\n",
        "plt.tight_layout()\n",
        "plt.show()"
      ],
      "execution_count": null,
      "outputs": [
        {
          "output_type": "display_data",
          "data": {
            "image/png": "[encoded data removed]",
            "text/plain": [
              "<Figure size 432x288 with 1 Axes>"
            ]
          },
          "metadata": {
            "tags": []
          }
        }
      ]
    },
    {
      "cell_type": "markdown",
      "metadata": {
        "id": "S7rSNT_2qQqc"
      },
      "source": [
        "dataFrame - zoptymalizowane pod kątem exportu damych z plików z kolumnani  CSV, JSON. Praca w kontekscie SQL. Szybsze niz RDD. Wykorzystujemy gdy używamy wysoko poziomowych funkcji API PySPARK takich jak agregacja, sortowanie"
      ]
    },
    {
      "cell_type": "markdown",
      "metadata": {
        "id": "st-x5yDBqoJ2"
      },
      "source": [
        "RDD - pierwotna struktura SPARKA, możliwa praca współdzielona w klastrze, zapewnia niezmienialnośc danych pierwotnych, możliwość odtworzenia danych początkowych np. w wyniku awarii. Nie maożna ich optymalizować w trakcie działania. Wolniejsze niż DataFrame. Gdy dane są nie ustrukturyzowane lub potrzebujemy działań niskiego poziomu. Np system rekomendacji fimów oparty na zbudowaniu profilu osoby oceniającej.\n",
        " \n",
        " \n",
        "***GRAFY***\n",
        " \n",
        "Graf w informatyce jest najbardziej skomplikowaną podstawową strukturą danych. Stosy, kolejki, listy i drzewa można traktować jako szczególne przypadki grafu lub grafy uproszczone.\n",
        "Grafy dostarczają nam potężne możliwości tworzenia różnego rodzaju relacji pomiędzy danymi, które można wiązać na wiele różnych sposobów, reprezentując lub modelując złożone zależności z otaczającego nas świata.\n",
        "Grafy możemy zaimplementować w postaci tablicy określającej rodzaj połączenia oraz jego etykietę lub dynamicznie korzystając ze wskaźników."
      ]
    }
  ]
}